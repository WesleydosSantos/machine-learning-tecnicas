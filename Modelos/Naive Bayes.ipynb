{
 "cells": [
  {
   "cell_type": "markdown",
   "id": "4eec8b78-484a-48c0-97ac-7c3bc3b06cc6",
   "metadata": {},
   "source": [
    "<div style=\"text-align: center;\">\n",
    "    <h1>Naive Bayes</h1>\n",
    "</div>"
   ]
  },
  {
   "cell_type": "markdown",
   "id": "0c208025-a1cc-48c4-8d28-a724299bdcb6",
   "metadata": {
    "jp-MarkdownHeadingCollapsed": true
   },
   "source": [
    "# Importar Bibliotecas"
   ]
  },
  {
   "cell_type": "code",
   "execution_count": null,
   "id": "5d6994b5-9a29-4dbc-bd19-f8602ee1dd0e",
   "metadata": {},
   "outputs": [],
   "source": [
    "import pandas as pd\n",
    "import numpy as np\n",
    "import seaborn as sns\n",
    "from sklearn.naive_bayes import GaussianNB\n",
    "from sklearn.model_selection import train_test_split, cross_val_score\n",
    "from sklearn.metrics import classification_report\n",
    "from sklearn.metrics import accuracy_score, f1_score, confusion_matrix, recall_score, classification_report\n",
    "from sklearn.feature_selection import SelectKBest, f_classif\n",
    "from imblearn.over_sampling import SMOTE \n",
    "from collections import Counter\n",
    "import matplotlib.pyplot as plt"
   ]
  },
  {
   "cell_type": "markdown",
   "id": "d0da5729-1fdc-43d7-82bc-ad7a1e06b570",
   "metadata": {},
   "source": [
    "# Carregar e explorar o dataset"
   ]
  },
  {
   "cell_type": "code",
   "execution_count": null,
   "id": "9430de6f-8d15-42b7-8211-3b5a1638073e",
   "metadata": {},
   "outputs": [],
   "source": [
    "df = pd.read_csv('C:/Users/wesle/machine-learning-tecnicas/Dataset/depression_anxiety_data.csv')"
   ]
  },
  {
   "cell_type": "code",
   "execution_count": null,
   "id": "23b2a534-b9e9-4d49-a761-56fcb47a87d9",
   "metadata": {},
   "outputs": [],
   "source": [
    "# Visualizar as Primeiras Linhas\n",
    "print(df.head(5))"
   ]
  },
  {
   "cell_type": "code",
   "execution_count": null,
   "id": "616c25e0-e5de-452e-a176-a884f02745d6",
   "metadata": {},
   "outputs": [],
   "source": [
    "# Resumo Estatístico\n",
    "print(df.describe())"
   ]
  },
  {
   "cell_type": "code",
   "execution_count": null,
   "id": "c2f05767-77d4-4416-ab09-b379af3223d6",
   "metadata": {},
   "outputs": [],
   "source": [
    "# Informações do DataFrame\n",
    "print(df.info())"
   ]
  },
  {
   "cell_type": "code",
   "execution_count": null,
   "id": "8202d91e-c930-4123-ad0a-e30dbe9fc2cf",
   "metadata": {},
   "outputs": [],
   "source": [
    "# Valores Únicos por Coluna\n",
    "print(df.nunique())"
   ]
  },
  {
   "cell_type": "code",
   "execution_count": null,
   "id": "77f667e1-8ef9-416c-87a2-5824eab88d1a",
   "metadata": {},
   "outputs": [],
   "source": [
    "# Verificar Dados Ausentes\n",
    "print(df.isnull().sum())"
   ]
  },
  {
   "cell_type": "code",
   "execution_count": null,
   "id": "6d1c687a-8b0d-46ad-b3b0-26d204fa131b",
   "metadata": {},
   "outputs": [],
   "source": [
    "# Distribuição da Variável Alvo\n",
    "plt.figure(figsize=(8, 6))\n",
    "sns.countplot(x='depression_diagnosis', data=df)\n",
    "plt.title('Distribuição da Variável Alvo')\n",
    "plt.xlabel('Classes')\n",
    "plt.ylabel('Contagem')\n",
    "plt.show()"
   ]
  },
  {
   "cell_type": "markdown",
   "id": "2ca6232f-8777-4cc4-8d28-f9a6a89c97eb",
   "metadata": {},
   "source": [
    "# Pré-processamento dos dados"
   ]
  },
  {
   "cell_type": "code",
   "execution_count": null,
   "id": "c78f9e40-b950-4ac6-a163-e4280bfba733",
   "metadata": {},
   "outputs": [],
   "source": [
    "df.drop('id', axis = 1, inplace = True)"
   ]
  },
  {
   "cell_type": "code",
   "execution_count": null,
   "id": "af28dc7d-32fc-4e0f-ae5f-89870027dada",
   "metadata": {},
   "outputs": [],
   "source": [
    "print('Antes da remoção de missings:\\n', df['depression_diagnosis'].value_counts())"
   ]
  },
  {
   "cell_type": "code",
   "execution_count": null,
   "id": "05723482-3752-4d7a-b13e-988775b464fe",
   "metadata": {},
   "outputs": [],
   "source": [
    "df.dropna(inplace = True) #removendo valores missing, 18 observações foram removidos (783-165)"
   ]
  },
  {
   "cell_type": "code",
   "execution_count": null,
   "id": "46f04003-021a-44ac-8be6-369d64e36e11",
   "metadata": {},
   "outputs": [],
   "source": [
    "print('Depois da remoção de missings:\\n', df['depression_diagnosis'].value_counts())"
   ]
  },
  {
   "cell_type": "code",
   "execution_count": null,
   "id": "a3467398-4d99-41fb-ba9e-0ac244492167",
   "metadata": {},
   "outputs": [],
   "source": [
    "df = df[df['who_bmi'] != 'Not Availble'] #a partir daqui, not availble não aparece mais, pega todos os elementos menos ele, isso significa que mais 8 observações foram removidas"
   ]
  },
  {
   "cell_type": "code",
   "execution_count": null,
   "id": "e7d7863d-c39d-46f0-8fcc-760f709a8394",
   "metadata": {},
   "outputs": [],
   "source": [
    "df.shape"
   ]
  },
  {
   "cell_type": "code",
   "execution_count": null,
   "id": "b532ef87-6462-4256-b933-619a131c08cd",
   "metadata": {},
   "outputs": [],
   "source": [
    "#gender\n",
    "df['gender'] = df['gender'].map({'female':0,'male':1})\n",
    "\n",
    "#who_bmi\n",
    "df['who_bmi'] = df['who_bmi'].map( {\n",
    "    \"Underweight\": 0,\n",
    "    \"Normal\": 1,\n",
    "    \"Overweight\": 2,\n",
    "    \"Class I Obesity\": 3,\n",
    "    \"Class II Obesity\": 4,\n",
    "    \"Class III Obesity\": 5,\n",
    "})\n",
    "\n",
    "#depression_severity\n",
    "df['depression_severity'] = df['depression_severity'].map({\n",
    "    \"none\": 0,\n",
    "    \"None-minimal\": 1,\n",
    "    \"Mild\":2,\n",
    "    \"Moderate\": 3,\n",
    "    \"Moderately severe\": 4,\n",
    "    \"Severe\": 5,\n",
    "})\n",
    "\n",
    "#anxiety_severity\n",
    "df['anxiety_severity'] = df['anxiety_severity'].replace(0, 'none')\n",
    "\n",
    "df['anxiety_severity'] = df['anxiety_severity'].replace({\n",
    "    'none': 0,\n",
    "    \"None-minimal\": 1,\n",
    "    \"Mild\": 2,\n",
    "    \"Moderate\": 3,\n",
    "    \"Severe\": 4\n",
    "})\n"
   ]
  },
  {
   "cell_type": "code",
   "execution_count": null,
   "id": "ea8a71d7-31c9-4baf-8bbd-3187770630c4",
   "metadata": {},
   "outputs": [],
   "source": [
    "colunas = ['depressiveness','suicidal', 'depression_treatment', 'anxiousness', 'anxiety_diagnosis', 'anxiety_treatment', 'sleepiness', 'depression_diagnosis']\n",
    "\n",
    "for coluna in colunas:\n",
    "    df[coluna] = df[coluna].astype(int)"
   ]
  },
  {
   "cell_type": "code",
   "execution_count": null,
   "id": "41632724-1709-404c-be8b-31783c2ea1a9",
   "metadata": {},
   "outputs": [],
   "source": [
    "df"
   ]
  },
  {
   "cell_type": "markdown",
   "id": "38334492-e12d-46ab-8f9f-6830a50d7be4",
   "metadata": {},
   "source": [
    "# Separando as características (X) e rótulos (y)"
   ]
  },
  {
   "cell_type": "code",
   "execution_count": null,
   "id": "cdf7cbde-2afa-4229-9761-7bf50bc83acb",
   "metadata": {},
   "outputs": [],
   "source": [
    "X = df.drop(columns=['depression_diagnosis'])\n",
    "y = df['depression_diagnosis']"
   ]
  },
  {
   "cell_type": "markdown",
   "id": "59160ee0-b708-4208-816f-b620f7e3f0aa",
   "metadata": {},
   "source": [
    "# Dividir o dataset em treino e teste"
   ]
  },
  {
   "cell_type": "code",
   "execution_count": null,
   "id": "06ec867a-c2dd-41f8-9739-77610f9a94fa",
   "metadata": {},
   "outputs": [],
   "source": [
    "X_train, X_test, y_train, y_test = train_test_split(X, y, test_size=0.3, random_state=42, stratify=y)"
   ]
  },
  {
   "cell_type": "markdown",
   "id": "b14a3041-2c27-49f3-8a47-2c5047e91254",
   "metadata": {},
   "source": [
    "# Cenário 1: Dataset sem reamostragem (original)"
   ]
  },
  {
   "cell_type": "markdown",
   "id": "6c8f8ff2-eef6-4f04-8203-9de006b1aaa0",
   "metadata": {},
   "source": [
    "## Treinamento do modelo"
   ]
  },
  {
   "cell_type": "code",
   "execution_count": null,
   "id": "4dc64dac-46cc-4993-b3d8-a6a00307a7b3",
   "metadata": {},
   "outputs": [],
   "source": [
    "naive_bayes = GaussianNB()\n",
    "\n",
    "naive_bayes.fit(X_train, y_train)"
   ]
  },
  {
   "cell_type": "markdown",
   "id": "a45f4145-77e1-4259-ba07-dbecd2d4406f",
   "metadata": {},
   "source": [
    "## Avaliação do modelo"
   ]
  },
  {
   "cell_type": "code",
   "execution_count": null,
   "id": "42c7b249-939e-4785-9c31-5f82b544f208",
   "metadata": {},
   "outputs": [],
   "source": [
    "y_pred = naive_bayes.predict(X_test)\n",
    "\n",
    "#avaliando o modelo com o cross-validation\n",
    "cv_scores = cross_val_score(naive_bayes, X_train, y_train, cv = 10, scoring='accuracy')\n",
    "\n",
    "print('Relatório do modelo\\n\\n', classification_report(y_test, y_pred))\n",
    "print(f\"Acurácia média da validação cruzada: {cv_scores.mean() * 100:.2f}%\")\n",
    "print(f\"Desvio padrão da acurácia: {cv_scores.std() * 100:.2f}%\")"
   ]
  },
  {
   "cell_type": "markdown",
   "id": "54f87b5f-09b9-4ffa-9066-d1bd19f77fbc",
   "metadata": {},
   "source": [
    "# Cenário 2: Dataset com reamostragem"
   ]
  },
  {
   "cell_type": "markdown",
   "id": "b8edd09b-7fb4-4a44-81e8-a567efb60791",
   "metadata": {},
   "source": [
    "## Balanceamento dos dados de treino"
   ]
  },
  {
   "cell_type": "code",
   "execution_count": null,
   "id": "c147ae11-6db6-4d62-b697-de7c353cc7c1",
   "metadata": {},
   "outputs": [],
   "source": [
    "smote = SMOTE(random_state=42)\n",
    "X_train_balanced, y_train_balanced = smote.fit_resample(X_train, y_train)\n",
    "print(f\"Distribuição das classes após SMOTE: {Counter(y_train_balanced)}\")"
   ]
  },
  {
   "cell_type": "markdown",
   "id": "ff71ca96-066d-4372-80a2-d6e5905ba300",
   "metadata": {},
   "source": [
    "## Treinamento do modelo"
   ]
  },
  {
   "cell_type": "code",
   "execution_count": null,
   "id": "9990a040-1b73-4f38-ba7d-bbec77e32f99",
   "metadata": {},
   "outputs": [],
   "source": [
    "naive_bayes.fit(X_train_balanced, y_train_balanced)"
   ]
  },
  {
   "cell_type": "markdown",
   "id": "4488d5e3-7840-48cd-9df8-4c226900660c",
   "metadata": {},
   "source": [
    "## Avaliação do modelo"
   ]
  },
  {
   "cell_type": "code",
   "execution_count": null,
   "id": "036a6694-ea99-4c7f-838f-8677280665c2",
   "metadata": {},
   "outputs": [],
   "source": [
    "y_pred = naive_bayes.predict(X_test)\n",
    "\n",
    "#avaliando o modelo com o cross-validation\n",
    "cv_scores = cross_val_score(naive_bayes, X_train_balanced, y_train_balanced, cv = 10, scoring='accuracy')\n",
    "\n",
    "print('Relatório do modelo\\n\\n', classification_report(y_test, y_pred))\n",
    "print(f\"Acurácia média da validação cruzada: {cv_scores.mean() * 100:.2f}%\")\n",
    "print(f\"Desvio padrão da acurácia: {cv_scores.std() * 100:.2f}%\")"
   ]
  },
  {
   "cell_type": "markdown",
   "id": "ce82882c-c346-4ec9-a050-d669035cac62",
   "metadata": {},
   "source": [
    "# Cenário 3: Dataset com reamostragem e seleção de características"
   ]
  },
  {
   "cell_type": "markdown",
   "id": "e0952ad1-e725-4750-87e2-1a8114c0eb59",
   "metadata": {},
   "source": [
    "## Seleção de Características"
   ]
  },
  {
   "cell_type": "code",
   "execution_count": null,
   "id": "5d5c4c04-9ce2-4ff3-9d6f-617ace3acfd2",
   "metadata": {},
   "outputs": [],
   "source": [
    "selector = SelectKBest(score_func = f_classif, k=5)\n",
    "X_train_selected = selector.fit_transform(X_train, y_train)\n",
    "X_test_selected = selector.transform(X_test)\n",
    "\n",
    "view_features = X.columns[selector.get_support()]\n",
    "\n",
    "print(\"Características selecionadas:\\n\", view_features)"
   ]
  },
  {
   "cell_type": "markdown",
   "id": "dd81b2d5-9758-4078-a68e-de3619cd82da",
   "metadata": {},
   "source": [
    "## Balanceamento dos dados de treino selecionados"
   ]
  },
  {
   "cell_type": "code",
   "execution_count": null,
   "id": "74cbe4ea-a290-4d6c-be3e-9c7300f4af26",
   "metadata": {},
   "outputs": [],
   "source": [
    "X_train_balanced_selected, y_train_balanced_selected = smote.fit_resample(X_train_selected, y_train)\n",
    "\n",
    "print(f\"Distribuição das classes após SMOTE: {Counter(y_train_balanced_selected)}\")"
   ]
  },
  {
   "cell_type": "markdown",
   "id": "86963b10-624e-48ba-880e-935e8aa27112",
   "metadata": {},
   "source": [
    "## Treinamento do modelo com dados reamostrados e selecionados"
   ]
  },
  {
   "cell_type": "code",
   "execution_count": null,
   "id": "5de75c3c-247e-4fe3-8c51-22c56ec42cb3",
   "metadata": {},
   "outputs": [],
   "source": [
    "naive_bayes.fit(X_train_balanced_selected, y_train_balanced_selected)"
   ]
  },
  {
   "cell_type": "markdown",
   "id": "7e08b0f1-2be6-4f07-97d7-312401d1583b",
   "metadata": {},
   "source": [
    "## Avaliação do Modelo"
   ]
  },
  {
   "cell_type": "code",
   "execution_count": null,
   "id": "8d3919de-b62d-4c49-bd57-e352b9796f7c",
   "metadata": {},
   "outputs": [],
   "source": [
    "y_pred_balanced_selected = naive_bayes.predict(X_test_selected)\n",
    "\n",
    "#avaliando o modelo com o cross-validation\n",
    "cv_scores = cross_val_score(naive_bayes, X_train_balanced_selected, y_train_balanced_selected, cv = 10, scoring='accuracy')\n",
    "\n",
    "print('Relatório do modelo\\n\\n', classification_report(y_test, y_pred_balanced_selected ))\n",
    "print(f\"Acurácia média da validação cruzada: {cv_scores.mean() * 100:.2f}%\")\n",
    "print(f\"Desvio padrão da acurácia: {cv_scores.std() * 100:.2f}%\")"
   ]
  }
 ],
 "metadata": {
  "kernelspec": {
   "display_name": "Python 3 (ipykernel)",
   "language": "python",
   "name": "python3"
  },
  "language_info": {
   "codemirror_mode": {
    "name": "ipython",
    "version": 3
   },
   "file_extension": ".py",
   "mimetype": "text/x-python",
   "name": "python",
   "nbconvert_exporter": "python",
   "pygments_lexer": "ipython3",
   "version": "3.12.7"
  }
 },
 "nbformat": 4,
 "nbformat_minor": 5
}
