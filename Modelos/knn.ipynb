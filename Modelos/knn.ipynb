{
 "cells": [
  {
   "cell_type": "markdown",
   "id": "4eec8b78-484a-48c0-97ac-7c3bc3b06cc6",
   "metadata": {},
   "source": [
    "<div style=\"text-align: center;\">\n",
    "    <h1>KNN</h1>\n",
    "</div>"
   ]
  },
  {
   "cell_type": "markdown",
   "id": "0257af73-5f5b-4073-8bfd-49c50350c32d",
   "metadata": {},
   "source": [
    "# Importar Bibliotecas"
   ]
  },
  {
   "cell_type": "code",
   "execution_count": 152,
   "id": "5d6994b5-9a29-4dbc-bd19-f8602ee1dd0e",
   "metadata": {},
   "outputs": [],
   "source": [
    "import pandas as pd\n",
    "import numpy as np\n",
    "import seaborn as sns\n",
    "import matplotlib.pyplot as plt\n",
    "from sklearn.neighbors import KNeighborsClassifier\n",
    "from sklearn.model_selection import train_test_split, cross_val_score\n",
    "from sklearn.metrics import confusion_matrix, classification_report\n",
    "from sklearn.feature_selection import SelectKBest, f_classif\n",
    "from imblearn.over_sampling import SMOTE \n",
    "from collections import Counter\n",
    "import matplotlib.pyplot as plt"
   ]
  },
  {
   "cell_type": "markdown",
   "id": "462a466a-e58d-4cb7-87ac-d0ce653d58b7",
   "metadata": {},
   "source": [
    "# Carregar e explorar o dataset"
   ]
  },
  {
   "cell_type": "code",
   "execution_count": 154,
   "id": "c3061cf4-b03b-46be-b412-075bd775bc2e",
   "metadata": {},
   "outputs": [],
   "source": [
    "df = pd.read_csv('C:/Users/wesle/machine-learning-tecnicas/Dataset/depression_data.csv')"
   ]
  },
  {
   "cell_type": "code",
   "execution_count": 155,
   "id": "0fb3e0be-84bc-40a3-94ef-daecbf15b076",
   "metadata": {},
   "outputs": [
    {
     "name": "stdout",
     "output_type": "stream",
     "text": [
      "   id  school_year  age  gender        bmi          who_bmi  phq_score  \\\n",
      "0   1            1   19    male  33.333333  Class I Obesity          9   \n",
      "1   2            1   18    male  19.841270           Normal          8   \n",
      "2   3            1   19    male  25.102391       Overweight          8   \n",
      "3   4            1   18  female  23.738662           Normal         19   \n",
      "4   5            1   18    male  25.617284       Overweight          6   \n",
      "\n",
      "  depression_severity depressiveness suicidal depression_diagnosis  \\\n",
      "0                Mild          False    False                False   \n",
      "1                Mild          False    False                False   \n",
      "2                Mild          False    False                False   \n",
      "3   Moderately severe           True     True                False   \n",
      "4                Mild          False    False                False   \n",
      "\n",
      "  depression_treatment  gad_score anxiety_severity anxiousness  \\\n",
      "0                False         11         Moderate        True   \n",
      "1                False          5             Mild       False   \n",
      "2                False          6             Mild       False   \n",
      "3                False         15           Severe        True   \n",
      "4                False         14         Moderate        True   \n",
      "\n",
      "  anxiety_diagnosis anxiety_treatment  epworth_score sleepiness  \n",
      "0             False             False            7.0      False  \n",
      "1             False             False           14.0       True  \n",
      "2             False             False            6.0      False  \n",
      "3             False             False           11.0       True  \n",
      "4             False             False            3.0      False  \n"
     ]
    }
   ],
   "source": [
    "# Visualizar as Primeiras Linhas\n",
    "print(df.head(5))"
   ]
  },
  {
   "cell_type": "code",
   "execution_count": 156,
   "id": "0fe8fad0-c88f-4295-af91-4d739792da63",
   "metadata": {},
   "outputs": [
    {
     "name": "stdout",
     "output_type": "stream",
     "text": [
      "               id  school_year         age         bmi   phq_score  \\\n",
      "count  783.000000   783.000000  783.000000  783.000000  783.000000   \n",
      "mean   392.000000     2.277139   20.233716   23.420533    7.123883   \n",
      "std    226.176922     1.163633    1.767217    4.563630    4.426580   \n",
      "min      1.000000     1.000000   18.000000    0.000000    0.000000   \n",
      "25%    196.500000     1.000000   19.000000   20.989420    4.000000   \n",
      "50%    392.000000     2.000000   20.000000   23.140496    6.000000   \n",
      "75%    587.500000     3.000000   21.000000   25.519924    9.000000   \n",
      "max    783.000000     4.000000   31.000000   54.552668   24.000000   \n",
      "\n",
      "        gad_score  epworth_score  \n",
      "count  783.000000     775.000000  \n",
      "mean     6.810983       6.376774  \n",
      "std      4.727352       3.996443  \n",
      "min      0.000000       0.000000  \n",
      "25%      3.000000       3.500000  \n",
      "50%      6.000000       6.000000  \n",
      "75%      9.000000       9.000000  \n",
      "max     21.000000      32.000000  \n"
     ]
    }
   ],
   "source": [
    "# Resumo Estatístico\n",
    "print(df.describe())"
   ]
  },
  {
   "cell_type": "code",
   "execution_count": 157,
   "id": "c0609853-464c-45bc-b01b-c6f906c7714f",
   "metadata": {},
   "outputs": [
    {
     "name": "stdout",
     "output_type": "stream",
     "text": [
      "<class 'pandas.core.frame.DataFrame'>\n",
      "RangeIndex: 783 entries, 0 to 782\n",
      "Data columns (total 19 columns):\n",
      " #   Column                Non-Null Count  Dtype  \n",
      "---  ------                --------------  -----  \n",
      " 0   id                    783 non-null    int64  \n",
      " 1   school_year           783 non-null    int64  \n",
      " 2   age                   783 non-null    int64  \n",
      " 3   gender                783 non-null    object \n",
      " 4   bmi                   783 non-null    float64\n",
      " 5   who_bmi               783 non-null    object \n",
      " 6   phq_score             783 non-null    int64  \n",
      " 7   depression_severity   779 non-null    object \n",
      " 8   depressiveness        780 non-null    object \n",
      " 9   suicidal              782 non-null    object \n",
      " 10  depression_diagnosis  782 non-null    object \n",
      " 11  depression_treatment  779 non-null    object \n",
      " 12  gad_score             783 non-null    int64  \n",
      " 13  anxiety_severity      783 non-null    object \n",
      " 14  anxiousness           777 non-null    object \n",
      " 15  anxiety_diagnosis     779 non-null    object \n",
      " 16  anxiety_treatment     781 non-null    object \n",
      " 17  epworth_score         775 non-null    float64\n",
      " 18  sleepiness            775 non-null    object \n",
      "dtypes: float64(2), int64(5), object(12)\n",
      "memory usage: 116.4+ KB\n",
      "None\n"
     ]
    }
   ],
   "source": [
    "# Informações do DataFrame\n",
    "print(df.info())"
   ]
  },
  {
   "cell_type": "code",
   "execution_count": 158,
   "id": "f2d094ac-5775-47e5-9936-c7caf1a52a2b",
   "metadata": {},
   "outputs": [
    {
     "name": "stdout",
     "output_type": "stream",
     "text": [
      "id                      783\n",
      "school_year               4\n",
      "age                      13\n",
      "gender                    2\n",
      "bmi                     516\n",
      "who_bmi                   7\n",
      "phq_score                24\n",
      "depression_severity       6\n",
      "depressiveness            2\n",
      "suicidal                  2\n",
      "depression_diagnosis      2\n",
      "depression_treatment      2\n",
      "gad_score                22\n",
      "anxiety_severity          5\n",
      "anxiousness               2\n",
      "anxiety_diagnosis         2\n",
      "anxiety_treatment         2\n",
      "epworth_score            24\n",
      "sleepiness                2\n",
      "dtype: int64\n"
     ]
    }
   ],
   "source": [
    "# Valores Únicos por Coluna\n",
    "print(df.nunique())"
   ]
  },
  {
   "cell_type": "code",
   "execution_count": 159,
   "id": "f0d38101-c9d1-41e8-a348-546e0ee09123",
   "metadata": {},
   "outputs": [
    {
     "name": "stdout",
     "output_type": "stream",
     "text": [
      "id                      0\n",
      "school_year             0\n",
      "age                     0\n",
      "gender                  0\n",
      "bmi                     0\n",
      "who_bmi                 0\n",
      "phq_score               0\n",
      "depression_severity     4\n",
      "depressiveness          3\n",
      "suicidal                1\n",
      "depression_diagnosis    1\n",
      "depression_treatment    4\n",
      "gad_score               0\n",
      "anxiety_severity        0\n",
      "anxiousness             6\n",
      "anxiety_diagnosis       4\n",
      "anxiety_treatment       2\n",
      "epworth_score           8\n",
      "sleepiness              8\n",
      "dtype: int64\n"
     ]
    }
   ],
   "source": [
    "# Verificar Dados Ausentes\n",
    "print(df.isnull().sum())"
   ]
  },
  {
   "cell_type": "code",
   "execution_count": 160,
   "id": "d9db91b4-97b8-48a0-a5d8-bce7e414f510",
   "metadata": {},
   "outputs": [
    {
     "data": {
      "image/png": "[encoded data removed]",
      "text/plain": [
       "<Figure size 800x600 with 1 Axes>"
      ]
     },
     "metadata": {},
     "output_type": "display_data"
    }
   ],
   "source": [
    "# Distribuição da Variável Alvo\n",
    "plt.figure(figsize=(8, 6))\n",
    "sns.countplot(x='depression_diagnosis', data=df)\n",
    "plt.title('Distribuição da Variável Alvo')\n",
    "plt.xlabel('Classes')\n",
    "plt.ylabel('Contagem')\n",
    "plt.show()"
   ]
  },
  {
   "cell_type": "markdown",
   "id": "d6c19522-8aa0-41f1-98ef-e5044d9d8030",
   "metadata": {},
   "source": [
    "# Pré-processamento dos dados"
   ]
  },
  {
   "cell_type": "code",
   "execution_count": 162,
   "id": "4e3a6c1e-385a-45c0-a311-4bc951047028",
   "metadata": {},
   "outputs": [],
   "source": [
    "df.drop('id', axis = 1, inplace = True)"
   ]
  },
  {
   "cell_type": "code",
   "execution_count": 163,
   "id": "672cfbfd-fa08-4577-8e48-8c708057ac47",
   "metadata": {},
   "outputs": [
    {
     "name": "stdout",
     "output_type": "stream",
     "text": [
      "Antes da remoção de missings:\n",
      " depression_diagnosis\n",
      "False    716\n",
      "True      66\n",
      "Name: count, dtype: int64\n"
     ]
    }
   ],
   "source": [
    "print('Antes da remoção de missings:\\n', df['depression_diagnosis'].value_counts())"
   ]
  },
  {
   "cell_type": "code",
   "execution_count": 164,
   "id": "c439cca5-3f8c-477b-a4cb-4e70a67fbfc7",
   "metadata": {},
   "outputs": [],
   "source": [
    "df.dropna(inplace = True) #removendo valores missing, 18 observações foram removidos (783-165)"
   ]
  },
  {
   "cell_type": "code",
   "execution_count": 165,
   "id": "23d5ac23-6557-4181-86b1-d5a7cff18a20",
   "metadata": {},
   "outputs": [
    {
     "name": "stdout",
     "output_type": "stream",
     "text": [
      "Depois da remoção de missings:\n",
      " depression_diagnosis\n",
      "False    699\n",
      "True      66\n",
      "Name: count, dtype: int64\n"
     ]
    }
   ],
   "source": [
    "print('Depois da remoção de missings:\\n', df['depression_diagnosis'].value_counts())"
   ]
  },
  {
   "cell_type": "code",
   "execution_count": 166,
   "id": "791148ab-47c4-4cfb-b2d5-5838cee20e45",
   "metadata": {},
   "outputs": [],
   "source": [
    "df = df[df['who_bmi'] != 'Not Availble'] #a partir daqui, not availble não aparece mais, pega todos os elementos menos ele, isso significa que mais 8 observações foram removidas"
   ]
  },
  {
   "cell_type": "code",
   "execution_count": 167,
   "id": "54d9cd31-1247-48fa-ad71-905df0c91b01",
   "metadata": {},
   "outputs": [
    {
     "data": {
      "text/plain": [
       "(757, 18)"
      ]
     },
     "execution_count": 167,
     "metadata": {},
     "output_type": "execute_result"
    }
   ],
   "source": [
    "df.shape"
   ]
  },
  {
   "cell_type": "code",
   "execution_count": 168,
   "id": "d202a892-b4bf-49d2-8aa0-6ffa297a7d49",
   "metadata": {},
   "outputs": [
    {
     "name": "stderr",
     "output_type": "stream",
     "text": [
      "C:\\Users\\wesle\\AppData\\Local\\Temp\\ipykernel_8852\\3294424170.py:27: FutureWarning: Downcasting behavior in `replace` is deprecated and will be removed in a future version. To retain the old behavior, explicitly call `result.infer_objects(copy=False)`. To opt-in to the future behavior, set `pd.set_option('future.no_silent_downcasting', True)`\n",
      "  df['anxiety_severity'] = df['anxiety_severity'].replace({\n"
     ]
    }
   ],
   "source": [
    "#gender\n",
    "df['gender'] = df['gender'].map({'female':0,'male':1})\n",
    "\n",
    "#who_bmi\n",
    "df['who_bmi'] = df['who_bmi'].map( {\n",
    "    \"Underweight\": 0,\n",
    "    \"Normal\": 1,\n",
    "    \"Overweight\": 2,\n",
    "    \"Class I Obesity\": 3,\n",
    "    \"Class II Obesity\": 4,\n",
    "    \"Class III Obesity\": 5,\n",
    "})\n",
    "\n",
    "#depression_severity\n",
    "df['depression_severity'] = df['depression_severity'].map({\n",
    "    \"none\": 0,\n",
    "    \"None-minimal\": 1,\n",
    "    \"Mild\":2,\n",
    "    \"Moderate\": 3,\n",
    "    \"Moderately severe\": 4,\n",
    "    \"Severe\": 5,\n",
    "})\n",
    "\n",
    "#anxiety_severity\n",
    "df['anxiety_severity'] = df['anxiety_severity'].replace(0, 'none')\n",
    "\n",
    "df['anxiety_severity'] = df['anxiety_severity'].replace({\n",
    "    'none': 0,\n",
    "    \"None-minimal\": 1,\n",
    "    \"Mild\": 2,\n",
    "    \"Moderate\": 3,\n",
    "    \"Severe\": 4\n",
    "})"
   ]
  },
  {
   "cell_type": "code",
   "execution_count": 169,
   "id": "d53f451f-ad57-4964-a5a8-5def86f22ad5",
   "metadata": {},
   "outputs": [],
   "source": [
    "colunas = ['depressiveness','suicidal', 'depression_treatment', 'anxiousness', 'anxiety_diagnosis', 'anxiety_treatment', 'sleepiness', 'depression_diagnosis']\n",
    "\n",
    "for coluna in colunas:\n",
    "    df[coluna] = df[coluna].astype(int)"
   ]
  },
  {
   "cell_type": "code",
   "execution_count": 170,
   "id": "379fd581-28b5-41f1-9d9f-87fd0695656b",
   "metadata": {},
   "outputs": [
    {
     "data": {
      "text/html": [
       "<div>\n",
       "<style scoped>\n",
       "    .dataframe tbody tr th:only-of-type {\n",
       "        vertical-align: middle;\n",
       "    }\n",
       "\n",
       "    .dataframe tbody tr th {\n",
       "        vertical-align: top;\n",
       "    }\n",
       "\n",
       "    .dataframe thead th {\n",
       "        text-align: right;\n",
       "    }\n",
       "</style>\n",
       "<table border=\"1\" class=\"dataframe\">\n",
       "  <thead>\n",
       "    <tr style=\"text-align: right;\">\n",
       "      <th></th>\n",
       "      <th>school_year</th>\n",
       "      <th>age</th>\n",
       "      <th>gender</th>\n",
       "      <th>bmi</th>\n",
       "      <th>who_bmi</th>\n",
       "      <th>phq_score</th>\n",
       "      <th>depression_severity</th>\n",
       "      <th>depressiveness</th>\n",
       "      <th>suicidal</th>\n",
       "      <th>depression_diagnosis</th>\n",
       "      <th>depression_treatment</th>\n",
       "      <th>gad_score</th>\n",
       "      <th>anxiety_severity</th>\n",
       "      <th>anxiousness</th>\n",
       "      <th>anxiety_diagnosis</th>\n",
       "      <th>anxiety_treatment</th>\n",
       "      <th>epworth_score</th>\n",
       "      <th>sleepiness</th>\n",
       "    </tr>\n",
       "  </thead>\n",
       "  <tbody>\n",
       "    <tr>\n",
       "      <th>0</th>\n",
       "      <td>1</td>\n",
       "      <td>19</td>\n",
       "      <td>1</td>\n",
       "      <td>33.333333</td>\n",
       "      <td>3</td>\n",
       "      <td>9</td>\n",
       "      <td>2</td>\n",
       "      <td>0</td>\n",
       "      <td>0</td>\n",
       "      <td>0</td>\n",
       "      <td>0</td>\n",
       "      <td>11</td>\n",
       "      <td>3</td>\n",
       "      <td>1</td>\n",
       "      <td>0</td>\n",
       "      <td>0</td>\n",
       "      <td>7.0</td>\n",
       "      <td>0</td>\n",
       "    </tr>\n",
       "    <tr>\n",
       "      <th>1</th>\n",
       "      <td>1</td>\n",
       "      <td>18</td>\n",
       "      <td>1</td>\n",
       "      <td>19.841270</td>\n",
       "      <td>1</td>\n",
       "      <td>8</td>\n",
       "      <td>2</td>\n",
       "      <td>0</td>\n",
       "      <td>0</td>\n",
       "      <td>0</td>\n",
       "      <td>0</td>\n",
       "      <td>5</td>\n",
       "      <td>2</td>\n",
       "      <td>0</td>\n",
       "      <td>0</td>\n",
       "      <td>0</td>\n",
       "      <td>14.0</td>\n",
       "      <td>1</td>\n",
       "    </tr>\n",
       "    <tr>\n",
       "      <th>2</th>\n",
       "      <td>1</td>\n",
       "      <td>19</td>\n",
       "      <td>1</td>\n",
       "      <td>25.102391</td>\n",
       "      <td>2</td>\n",
       "      <td>8</td>\n",
       "      <td>2</td>\n",
       "      <td>0</td>\n",
       "      <td>0</td>\n",
       "      <td>0</td>\n",
       "      <td>0</td>\n",
       "      <td>6</td>\n",
       "      <td>2</td>\n",
       "      <td>0</td>\n",
       "      <td>0</td>\n",
       "      <td>0</td>\n",
       "      <td>6.0</td>\n",
       "      <td>0</td>\n",
       "    </tr>\n",
       "    <tr>\n",
       "      <th>3</th>\n",
       "      <td>1</td>\n",
       "      <td>18</td>\n",
       "      <td>0</td>\n",
       "      <td>23.738662</td>\n",
       "      <td>1</td>\n",
       "      <td>19</td>\n",
       "      <td>4</td>\n",
       "      <td>1</td>\n",
       "      <td>1</td>\n",
       "      <td>0</td>\n",
       "      <td>0</td>\n",
       "      <td>15</td>\n",
       "      <td>4</td>\n",
       "      <td>1</td>\n",
       "      <td>0</td>\n",
       "      <td>0</td>\n",
       "      <td>11.0</td>\n",
       "      <td>1</td>\n",
       "    </tr>\n",
       "    <tr>\n",
       "      <th>4</th>\n",
       "      <td>1</td>\n",
       "      <td>18</td>\n",
       "      <td>1</td>\n",
       "      <td>25.617284</td>\n",
       "      <td>2</td>\n",
       "      <td>6</td>\n",
       "      <td>2</td>\n",
       "      <td>0</td>\n",
       "      <td>0</td>\n",
       "      <td>0</td>\n",
       "      <td>0</td>\n",
       "      <td>14</td>\n",
       "      <td>3</td>\n",
       "      <td>1</td>\n",
       "      <td>0</td>\n",
       "      <td>0</td>\n",
       "      <td>3.0</td>\n",
       "      <td>0</td>\n",
       "    </tr>\n",
       "    <tr>\n",
       "      <th>...</th>\n",
       "      <td>...</td>\n",
       "      <td>...</td>\n",
       "      <td>...</td>\n",
       "      <td>...</td>\n",
       "      <td>...</td>\n",
       "      <td>...</td>\n",
       "      <td>...</td>\n",
       "      <td>...</td>\n",
       "      <td>...</td>\n",
       "      <td>...</td>\n",
       "      <td>...</td>\n",
       "      <td>...</td>\n",
       "      <td>...</td>\n",
       "      <td>...</td>\n",
       "      <td>...</td>\n",
       "      <td>...</td>\n",
       "      <td>...</td>\n",
       "      <td>...</td>\n",
       "    </tr>\n",
       "    <tr>\n",
       "      <th>778</th>\n",
       "      <td>4</td>\n",
       "      <td>24</td>\n",
       "      <td>0</td>\n",
       "      <td>21.096191</td>\n",
       "      <td>1</td>\n",
       "      <td>6</td>\n",
       "      <td>2</td>\n",
       "      <td>0</td>\n",
       "      <td>0</td>\n",
       "      <td>0</td>\n",
       "      <td>0</td>\n",
       "      <td>1</td>\n",
       "      <td>1</td>\n",
       "      <td>0</td>\n",
       "      <td>0</td>\n",
       "      <td>0</td>\n",
       "      <td>3.0</td>\n",
       "      <td>0</td>\n",
       "    </tr>\n",
       "    <tr>\n",
       "      <th>779</th>\n",
       "      <td>4</td>\n",
       "      <td>22</td>\n",
       "      <td>1</td>\n",
       "      <td>25.308642</td>\n",
       "      <td>2</td>\n",
       "      <td>4</td>\n",
       "      <td>1</td>\n",
       "      <td>0</td>\n",
       "      <td>0</td>\n",
       "      <td>0</td>\n",
       "      <td>0</td>\n",
       "      <td>6</td>\n",
       "      <td>2</td>\n",
       "      <td>0</td>\n",
       "      <td>0</td>\n",
       "      <td>0</td>\n",
       "      <td>3.0</td>\n",
       "      <td>0</td>\n",
       "    </tr>\n",
       "    <tr>\n",
       "      <th>780</th>\n",
       "      <td>4</td>\n",
       "      <td>22</td>\n",
       "      <td>1</td>\n",
       "      <td>22.720438</td>\n",
       "      <td>1</td>\n",
       "      <td>2</td>\n",
       "      <td>1</td>\n",
       "      <td>0</td>\n",
       "      <td>0</td>\n",
       "      <td>0</td>\n",
       "      <td>0</td>\n",
       "      <td>5</td>\n",
       "      <td>2</td>\n",
       "      <td>0</td>\n",
       "      <td>0</td>\n",
       "      <td>0</td>\n",
       "      <td>4.0</td>\n",
       "      <td>0</td>\n",
       "    </tr>\n",
       "    <tr>\n",
       "      <th>781</th>\n",
       "      <td>4</td>\n",
       "      <td>22</td>\n",
       "      <td>0</td>\n",
       "      <td>23.033168</td>\n",
       "      <td>1</td>\n",
       "      <td>17</td>\n",
       "      <td>4</td>\n",
       "      <td>1</td>\n",
       "      <td>0</td>\n",
       "      <td>0</td>\n",
       "      <td>0</td>\n",
       "      <td>19</td>\n",
       "      <td>4</td>\n",
       "      <td>1</td>\n",
       "      <td>0</td>\n",
       "      <td>0</td>\n",
       "      <td>15.0</td>\n",
       "      <td>1</td>\n",
       "    </tr>\n",
       "    <tr>\n",
       "      <th>782</th>\n",
       "      <td>4</td>\n",
       "      <td>22</td>\n",
       "      <td>1</td>\n",
       "      <td>22.598140</td>\n",
       "      <td>1</td>\n",
       "      <td>6</td>\n",
       "      <td>2</td>\n",
       "      <td>0</td>\n",
       "      <td>0</td>\n",
       "      <td>0</td>\n",
       "      <td>0</td>\n",
       "      <td>6</td>\n",
       "      <td>2</td>\n",
       "      <td>0</td>\n",
       "      <td>0</td>\n",
       "      <td>0</td>\n",
       "      <td>0.0</td>\n",
       "      <td>0</td>\n",
       "    </tr>\n",
       "  </tbody>\n",
       "</table>\n",
       "<p>757 rows × 18 columns</p>\n",
       "</div>"
      ],
      "text/plain": [
       "     school_year  age  gender        bmi  who_bmi  phq_score  \\\n",
       "0              1   19       1  33.333333        3          9   \n",
       "1              1   18       1  19.841270        1          8   \n",
       "2              1   19       1  25.102391        2          8   \n",
       "3              1   18       0  23.738662        1         19   \n",
       "4              1   18       1  25.617284        2          6   \n",
       "..           ...  ...     ...        ...      ...        ...   \n",
       "778            4   24       0  21.096191        1          6   \n",
       "779            4   22       1  25.308642        2          4   \n",
       "780            4   22       1  22.720438        1          2   \n",
       "781            4   22       0  23.033168        1         17   \n",
       "782            4   22       1  22.598140        1          6   \n",
       "\n",
       "     depression_severity  depressiveness  suicidal  depression_diagnosis  \\\n",
       "0                      2               0         0                     0   \n",
       "1                      2               0         0                     0   \n",
       "2                      2               0         0                     0   \n",
       "3                      4               1         1                     0   \n",
       "4                      2               0         0                     0   \n",
       "..                   ...             ...       ...                   ...   \n",
       "778                    2               0         0                     0   \n",
       "779                    1               0         0                     0   \n",
       "780                    1               0         0                     0   \n",
       "781                    4               1         0                     0   \n",
       "782                    2               0         0                     0   \n",
       "\n",
       "     depression_treatment  gad_score  anxiety_severity  anxiousness  \\\n",
       "0                       0         11                 3            1   \n",
       "1                       0          5                 2            0   \n",
       "2                       0          6                 2            0   \n",
       "3                       0         15                 4            1   \n",
       "4                       0         14                 3            1   \n",
       "..                    ...        ...               ...          ...   \n",
       "778                     0          1                 1            0   \n",
       "779                     0          6                 2            0   \n",
       "780                     0          5                 2            0   \n",
       "781                     0         19                 4            1   \n",
       "782                     0          6                 2            0   \n",
       "\n",
       "     anxiety_diagnosis  anxiety_treatment  epworth_score  sleepiness  \n",
       "0                    0                  0            7.0           0  \n",
       "1                    0                  0           14.0           1  \n",
       "2                    0                  0            6.0           0  \n",
       "3                    0                  0           11.0           1  \n",
       "4                    0                  0            3.0           0  \n",
       "..                 ...                ...            ...         ...  \n",
       "778                  0                  0            3.0           0  \n",
       "779                  0                  0            3.0           0  \n",
       "780                  0                  0            4.0           0  \n",
       "781                  0                  0           15.0           1  \n",
       "782                  0                  0            0.0           0  \n",
       "\n",
       "[757 rows x 18 columns]"
      ]
     },
     "execution_count": 170,
     "metadata": {},
     "output_type": "execute_result"
    }
   ],
   "source": [
    "df"
   ]
  },
  {
   "cell_type": "markdown",
   "id": "c52bfce5-bd26-4d19-bc77-f2dd7087ae05",
   "metadata": {
    "jp-MarkdownHeadingCollapsed": true
   },
   "source": [
    "# Separando as características (X) e rótulos (y)"
   ]
  },
  {
   "cell_type": "code",
   "execution_count": 172,
   "id": "ba073c00-3d9a-4cdb-b818-81ad77970472",
   "metadata": {},
   "outputs": [],
   "source": [
    "X = df.drop(columns=['depression_diagnosis'])\n",
    "y = df['depression_diagnosis']"
   ]
  },
  {
   "cell_type": "markdown",
   "id": "72da0dce-f512-4e53-a2b7-6d9ca9dab927",
   "metadata": {
    "jp-MarkdownHeadingCollapsed": true
   },
   "source": [
    "# Dividir o dataset em treino e teste"
   ]
  },
  {
   "cell_type": "code",
   "execution_count": 174,
   "id": "a16c92db-f845-4d3f-8d47-5d4d40fd1711",
   "metadata": {},
   "outputs": [],
   "source": [
    "X_train, X_test, y_train, y_test = train_test_split(X, y, test_size=0.3, random_state=42, stratify=y)"
   ]
  },
  {
   "cell_type": "markdown",
   "id": "03abcd9f-69b2-49ff-a457-27be3ba97028",
   "metadata": {},
   "source": [
    "# Cenário 1: Dataset sem reamostragem (original)"
   ]
  },
  {
   "cell_type": "markdown",
   "id": "f76dc86b-14b8-4e1f-8992-a6b4feccfcd8",
   "metadata": {},
   "source": [
    "## Treinamento do modelo"
   ]
  },
  {
   "cell_type": "code",
   "execution_count": 177,
   "id": "cf76618e-9547-405b-aa9d-5adf0a14a340",
   "metadata": {},
   "outputs": [
    {
     "name": "stdout",
     "output_type": "stream",
     "text": [
      "Melhor valor de k: 2\n"
     ]
    }
   ],
   "source": [
    "# testando diferentes valores de k\n",
    "k_values = range(1, 11)\n",
    "accuracies = []\n",
    "\n",
    "for k in k_values:\n",
    "    knn = KNeighborsClassifier(n_neighbors=k)\n",
    "    knn.fit(X_train, y_train) \n",
    "    y_pred = knn.predict(X_test)\n",
    "    accuracies.append(accuracy_score(y_test, y_pred))\n",
    "    \n",
    "best_k = k_values[accuracies.index(max(accuracies))]\n",
    "print(f\"Melhor valor de k: {best_k}\")"
   ]
  },
  {
   "cell_type": "markdown",
   "id": "027cd279-81a7-46c2-8b50-b49b024cec3c",
   "metadata": {},
   "source": [
    "## Avaliação do modelo"
   ]
  },
  {
   "cell_type": "code",
   "execution_count": 179,
   "id": "38f88cfb-c055-426d-b75a-36fec28df0e0",
   "metadata": {},
   "outputs": [
    {
     "name": "stdout",
     "output_type": "stream",
     "text": [
      "Relatório do modelo\n",
      "\n",
      "               precision    recall  f1-score   support\n",
      "\n",
      "           0       0.92      1.00      0.96       209\n",
      "           1       0.00      0.00      0.00        19\n",
      "\n",
      "    accuracy                           0.92       228\n",
      "   macro avg       0.46      0.50      0.48       228\n",
      "weighted avg       0.84      0.92      0.88       228\n",
      "\n",
      "Acurácia média da validação cruzada: 91.49%\n",
      "Desvio padrão da acurácia: 0.93%\n"
     ]
    },
    {
     "name": "stderr",
     "output_type": "stream",
     "text": [
      "C:\\Users\\wesle\\anaconda3\\Lib\\site-packages\\sklearn\\metrics\\_classification.py:1531: UndefinedMetricWarning: Precision is ill-defined and being set to 0.0 in labels with no predicted samples. Use `zero_division` parameter to control this behavior.\n",
      "  _warn_prf(average, modifier, f\"{metric.capitalize()} is\", len(result))\n",
      "C:\\Users\\wesle\\anaconda3\\Lib\\site-packages\\sklearn\\metrics\\_classification.py:1531: UndefinedMetricWarning: Precision is ill-defined and being set to 0.0 in labels with no predicted samples. Use `zero_division` parameter to control this behavior.\n",
      "  _warn_prf(average, modifier, f\"{metric.capitalize()} is\", len(result))\n",
      "C:\\Users\\wesle\\anaconda3\\Lib\\site-packages\\sklearn\\metrics\\_classification.py:1531: UndefinedMetricWarning: Precision is ill-defined and being set to 0.0 in labels with no predicted samples. Use `zero_division` parameter to control this behavior.\n",
      "  _warn_prf(average, modifier, f\"{metric.capitalize()} is\", len(result))\n"
     ]
    }
   ],
   "source": [
    "cv_scores = cross_val_score(knn, X_train, y_train, cv = 10, scoring='accuracy')\n",
    "\n",
    "print('Relatório do modelo\\n\\n', classification_report(y_test, y_pred))\n",
    "print(f\"Acurácia média da validação cruzada: {cv_scores.mean() * 100:.2f}%\")\n",
    "print(f\"Desvio padrão da acurácia: {cv_scores.std() * 100:.2f}%\")"
   ]
  },
  {
   "cell_type": "markdown",
   "id": "f63ed670-a3b0-4ac5-80d7-c94d715e8295",
   "metadata": {
    "jp-MarkdownHeadingCollapsed": true
   },
   "source": [
    "# Cenário 2: Dataset com reamostragem"
   ]
  },
  {
   "cell_type": "markdown",
   "id": "f2a7b462-aed6-4c5d-a081-90c95f06ea4f",
   "metadata": {},
   "source": [
    "## Balanceamento dos dados de treino"
   ]
  },
  {
   "cell_type": "code",
   "execution_count": 182,
   "id": "c1aeec97-308d-4fb8-aac2-c4f341a0269c",
   "metadata": {},
   "outputs": [
    {
     "name": "stdout",
     "output_type": "stream",
     "text": [
      "Distribuição das classes após SMOTE: Counter({0: 484, 1: 484})\n"
     ]
    }
   ],
   "source": [
    "smote = SMOTE(random_state=42)\n",
    "X_train_balanced, y_train_balanced = smote.fit_resample(X_train, y_train)\n",
    "print(f\"Distribuição das classes após SMOTE: {Counter(y_train_balanced)}\")"
   ]
  },
  {
   "cell_type": "markdown",
   "id": "205b86f9-c57b-42b0-b804-681a0d6f8495",
   "metadata": {},
   "source": [
    "## Treinamento do modelo"
   ]
  },
  {
   "cell_type": "code",
   "execution_count": 184,
   "id": "8f0e21cc-5607-40a3-9324-b8b68cc0b231",
   "metadata": {},
   "outputs": [
    {
     "name": "stdout",
     "output_type": "stream",
     "text": [
      "Melhor valor de k: 2\n"
     ]
    }
   ],
   "source": [
    "# testando diferentes valores de k\n",
    "k_values = range(1, 11)\n",
    "accuracies = []\n",
    "\n",
    "for k in k_values:\n",
    "    knn = KNeighborsClassifier(n_neighbors=k,)\n",
    "    knn.fit(X_train_balanced, y_train_balanced) \n",
    "    y_pred = knn.predict(X_test)\n",
    "    accuracies.append(accuracy_score(y_test, y_pred))\n",
    "    \n",
    "best_k = k_values[accuracies.index(max(accuracies))]\n",
    "print(f\"Melhor valor de k: {best_k}\")"
   ]
  },
  {
   "cell_type": "markdown",
   "id": "87243b33-d967-458e-81f7-eb0aa9a60903",
   "metadata": {},
   "source": [
    "## Avaliação do modelo"
   ]
  },
  {
   "cell_type": "code",
   "execution_count": 186,
   "id": "54fb6845-b285-4bb3-a1f7-fb797e8f3c53",
   "metadata": {},
   "outputs": [
    {
     "name": "stdout",
     "output_type": "stream",
     "text": [
      "Relatório do modelo\n",
      "\n",
      "               precision    recall  f1-score   support\n",
      "\n",
      "           0       0.94      0.75      0.84       209\n",
      "           1       0.15      0.47      0.23        19\n",
      "\n",
      "    accuracy                           0.73       228\n",
      "   macro avg       0.54      0.61      0.53       228\n",
      "weighted avg       0.87      0.73      0.78       228\n",
      "\n",
      "Acurácia média da validação cruzada: 84.19%\n",
      "Desvio padrão da acurácia: 1.96%\n"
     ]
    }
   ],
   "source": [
    "cv_scores = cross_val_score(knn, X_train_balanced, y_train_balanced, cv = 10, scoring='accuracy')\n",
    "\n",
    "print('Relatório do modelo\\n\\n', classification_report(y_test, y_pred))\n",
    "print(f\"Acurácia média da validação cruzada: {cv_scores.mean() * 100:.2f}%\")\n",
    "print(f\"Desvio padrão da acurácia: {cv_scores.std() * 100:.2f}%\")"
   ]
  },
  {
   "cell_type": "markdown",
   "id": "3aaffd7e-06f4-4e39-8683-b36d11b76bfa",
   "metadata": {},
   "source": [
    "# Cenário 3: Dataset com reamostragem e seleção de características"
   ]
  },
  {
   "cell_type": "markdown",
   "id": "e4e33d21-9e98-44f9-b222-9aec54cfeaa6",
   "metadata": {},
   "source": [
    "## Seleção de Características"
   ]
  },
  {
   "cell_type": "code",
   "execution_count": 189,
   "id": "a13251dd-c8e0-4440-8923-fce34f3f377c",
   "metadata": {},
   "outputs": [
    {
     "name": "stdout",
     "output_type": "stream",
     "text": [
      "Características selecionadas:\n",
      " Index(['phq_score', 'depressiveness', 'depression_treatment',\n",
      "       'anxiety_diagnosis', 'anxiety_treatment'],\n",
      "      dtype='object')\n"
     ]
    }
   ],
   "source": [
    "selector = SelectKBest(score_func = f_classif, k=5)\n",
    "X_train_selected = selector.fit_transform(X_train, y_train)\n",
    "X_test_selected = selector.transform(X_test)\n",
    "\n",
    "view_features = X.columns[selector.get_support()]\n",
    "\n",
    "print(\"Características selecionadas:\\n\", view_features)"
   ]
  },
  {
   "cell_type": "markdown",
   "id": "0887244b-9667-4791-907f-9fd82872ca17",
   "metadata": {},
   "source": [
    "## Balanceamento dos dados de treino selecionados"
   ]
  },
  {
   "cell_type": "code",
   "execution_count": 191,
   "id": "084fa4e7-237a-4026-bd48-6e90e4a4775a",
   "metadata": {},
   "outputs": [
    {
     "name": "stdout",
     "output_type": "stream",
     "text": [
      "Distribuição das classes após SMOTE: Counter({0: 484, 1: 484})\n"
     ]
    }
   ],
   "source": [
    "X_train_balanced_selected, y_train_balanced_selected = smote.fit_resample(X_train_selected, y_train)\n",
    "\n",
    "print(f\"Distribuição das classes após SMOTE: {Counter(y_train_balanced_selected)}\")"
   ]
  },
  {
   "cell_type": "markdown",
   "id": "9a15c3e2-77ea-49ad-867d-41a2ebba786b",
   "metadata": {},
   "source": [
    "## Treinamento do modelo com dados reamostrados e selecionados"
   ]
  },
  {
   "cell_type": "code",
   "execution_count": 193,
   "id": "c76693f0-c4b8-469a-9175-a2c30dbc12ba",
   "metadata": {},
   "outputs": [
    {
     "name": "stdout",
     "output_type": "stream",
     "text": [
      "Melhor valor de k: 1\n"
     ]
    }
   ],
   "source": [
    "# testando diferentes valores de k\n",
    "k_values = range(1, 11)\n",
    "accuracies = []\n",
    "\n",
    "for k in k_values:\n",
    "    knn = KNeighborsClassifier(n_neighbors=k)\n",
    "    knn.fit(X_train_balanced_selected, y_train_balanced_selected) \n",
    "    y_pred_balanced_selected  = knn.predict(X_test_selected)\n",
    "    accuracies.append(accuracy_score(y_test, y_pred))\n",
    "    \n",
    "best_k = k_values[accuracies.index(max(accuracies))]\n",
    "print(f\"Melhor valor de k: {best_k}\")"
   ]
  },
  {
   "cell_type": "markdown",
   "id": "b7155b47-e7c8-4c1a-bb40-86ac6536d883",
   "metadata": {},
   "source": [
    "## Avaliação do Modelo"
   ]
  },
  {
   "cell_type": "code",
   "execution_count": 195,
   "id": "492bdf5d-c29d-4870-9170-78ec0fa230c0",
   "metadata": {},
   "outputs": [
    {
     "name": "stdout",
     "output_type": "stream",
     "text": [
      "Relatório do modelo\n",
      "\n",
      "               precision    recall  f1-score   support\n",
      "\n",
      "           0       0.95      0.96      0.95       209\n",
      "           1       0.50      0.47      0.49        19\n",
      "\n",
      "    accuracy                           0.92       228\n",
      "   macro avg       0.73      0.72      0.72       228\n",
      "weighted avg       0.91      0.92      0.92       228\n",
      "\n",
      "Acurácia média da validação cruzada: 91.73%\n",
      "Desvio padrão da acurácia: 2.22%\n"
     ]
    }
   ],
   "source": [
    "cv_scores = cross_val_score(knn, X_train_balanced_selected, y_train_balanced_selected, cv = 10, scoring='accuracy')\n",
    "\n",
    "print('Relatório do modelo\\n\\n', classification_report(y_test,y_pred_balanced_selected ))\n",
    "print(f\"Acurácia média da validação cruzada: {cv_scores.mean() * 100:.2f}%\")\n",
    "print(f\"Desvio padrão da acurácia: {cv_scores.std() * 100:.2f}%\")"
   ]
  }
 ],
 "metadata": {
  "kernelspec": {
   "display_name": "Python 3 (ipykernel)",
   "language": "python",
   "name": "python3"
  },
  "language_info": {
   "codemirror_mode": {
    "name": "ipython",
    "version": 3
   },
   "file_extension": ".py",
   "mimetype": "text/x-python",
   "name": "python",
   "nbconvert_exporter": "python",
   "pygments_lexer": "ipython3",
   "version": "3.12.7"
  }
 },
 "nbformat": 4,
 "nbformat_minor": 5
}
