{
 "cells": [
  {
   "cell_type": "markdown",
   "id": "4eec8b78-484a-48c0-97ac-7c3bc3b06cc6",
   "metadata": {},
   "source": [
    "<div style=\"text-align: center;\">\n",
    "    <h1>Versão em andamento</h1>\n",
    "</div>"
   ]
  },
  {
   "cell_type": "code",
   "execution_count": 3,
   "id": "5d6994b5-9a29-4dbc-bd19-f8602ee1dd0e",
   "metadata": {},
   "outputs": [],
   "source": [
    "import pandas as pd\n",
    "import numpy as np\n",
    "import seaborn as sns\n",
    "import matplotlib.pyplot as plt\n",
    "from sklearn.neighbors  import KNeighborsClassifier\n",
    "from sklearn.model_selection import train_test_split, cross_val_score\n",
    "from sklearn.metrics import classification_report\n",
    "from sklearn.metrics import accuracy_score, f1_score, confusion_matrix, recall_score, classification_report\n",
    "from sklearn.feature_selection import SelectKBest, f_classif\n",
    "from imblearn.over_sampling import SMOTE "
   ]
  },
  {
   "cell_type": "code",
   "execution_count": 4,
   "id": "9430de6f-8d15-42b7-8211-3b5a1638073e",
   "metadata": {},
   "outputs": [],
   "source": [
    "df = pd.read_csv('C:/Users/wesle/machine-learning-tecnicas/Dataset/depression_data.csv')\n",
    "\n",
    "df.drop('id', axis = 1, inplace = True)"
   ]
  },
  {
   "cell_type": "code",
   "execution_count": 5,
   "id": "4db80098-0377-4420-b11f-d4aec35cbefc",
   "metadata": {},
   "outputs": [
    {
     "data": {
      "text/plain": [
       "school_year             0\n",
       "age                     0\n",
       "gender                  0\n",
       "bmi                     0\n",
       "who_bmi                 0\n",
       "phq_score               0\n",
       "depression_severity     4\n",
       "depressiveness          3\n",
       "suicidal                1\n",
       "depression_diagnosis    1\n",
       "depression_treatment    4\n",
       "gad_score               0\n",
       "anxiety_severity        0\n",
       "anxiousness             6\n",
       "anxiety_diagnosis       4\n",
       "anxiety_treatment       2\n",
       "epworth_score           8\n",
       "sleepiness              8\n",
       "dtype: int64"
      ]
     },
     "execution_count": 5,
     "metadata": {},
     "output_type": "execute_result"
    }
   ],
   "source": [
    "df.isnull().sum()"
   ]
  },
  {
   "cell_type": "code",
   "execution_count": 6,
   "id": "af28dc7d-32fc-4e0f-ae5f-89870027dada",
   "metadata": {},
   "outputs": [
    {
     "name": "stdout",
     "output_type": "stream",
     "text": [
      "Antes da remoção de missings:\n",
      " anxiety_diagnosis\n",
      "False    718\n",
      "True      61\n",
      "Name: count, dtype: int64 \n",
      "\n",
      "Antes da remoção de missings:\n",
      " depression_diagnosis\n",
      "False    716\n",
      "True      66\n",
      "Name: count, dtype: int64\n"
     ]
    }
   ],
   "source": [
    "print('Antes da remoção de missings:\\n', df['anxiety_diagnosis'].value_counts(),'\\n')\n",
    "print('Antes da remoção de missings:\\n', df['depression_diagnosis'].value_counts())"
   ]
  },
  {
   "cell_type": "code",
   "execution_count": 7,
   "id": "05723482-3752-4d7a-b13e-988775b464fe",
   "metadata": {},
   "outputs": [],
   "source": [
    "df.dropna(inplace = True) #removendo valores missing, 18 observações foram removidos (783-165)"
   ]
  },
  {
   "cell_type": "code",
   "execution_count": 8,
   "id": "46f04003-021a-44ac-8be6-369d64e36e11",
   "metadata": {},
   "outputs": [
    {
     "name": "stdout",
     "output_type": "stream",
     "text": [
      "Depois da remoção de missings:\n",
      " anxiety_diagnosis\n",
      "False    704\n",
      "True      61\n",
      "Name: count, dtype: int64 \n",
      "\n",
      "Depois da remoção de missings:\n",
      " depression_diagnosis\n",
      "False    699\n",
      "True      66\n",
      "Name: count, dtype: int64\n"
     ]
    }
   ],
   "source": [
    "print('Depois da remoção de missings:\\n', df['anxiety_diagnosis'].value_counts(),'\\n')\n",
    "print('Depois da remoção de missings:\\n', df['depression_diagnosis'].value_counts())"
   ]
  },
  {
   "cell_type": "code",
   "execution_count": 9,
   "id": "a3467398-4d99-41fb-ba9e-0ac244492167",
   "metadata": {},
   "outputs": [],
   "source": [
    "df = df[df['who_bmi'] != 'Not Availble'] #a partir daqui, not availble não aparece mais, pega todos os elementos menos ele, isso significa que mais 8 observações foram removidas"
   ]
  },
  {
   "cell_type": "code",
   "execution_count": 10,
   "id": "e7d7863d-c39d-46f0-8fcc-760f709a8394",
   "metadata": {},
   "outputs": [
    {
     "data": {
      "text/plain": [
       "(757, 18)"
      ]
     },
     "execution_count": 10,
     "metadata": {},
     "output_type": "execute_result"
    }
   ],
   "source": [
    "df.shape"
   ]
  },
  {
   "cell_type": "markdown",
   "id": "5958b728-d200-4b55-9400-3195866f4f72",
   "metadata": {},
   "source": [
    "## Transformando dados categórico para numérico"
   ]
  },
  {
   "cell_type": "code",
   "execution_count": 12,
   "id": "b532ef87-6462-4256-b933-619a131c08cd",
   "metadata": {},
   "outputs": [
    {
     "name": "stderr",
     "output_type": "stream",
     "text": [
      "C:\\Users\\wesle\\AppData\\Local\\Temp\\ipykernel_7416\\114210172.py:27: FutureWarning: Downcasting behavior in `replace` is deprecated and will be removed in a future version. To retain the old behavior, explicitly call `result.infer_objects(copy=False)`. To opt-in to the future behavior, set `pd.set_option('future.no_silent_downcasting', True)`\n",
      "  df['anxiety_severity'] = df['anxiety_severity'].replace({\n"
     ]
    }
   ],
   "source": [
    "#gender\n",
    "df['gender'] = df['gender'].map({'female':0,'male':1})\n",
    "\n",
    "#who_bmi\n",
    "df['who_bmi'] = df['who_bmi'].map( {\n",
    "    \"Underweight\": 0,\n",
    "    \"Normal\": 1,\n",
    "    \"Overweight\": 2,\n",
    "    \"Class I Obesity\": 3,\n",
    "    \"Class II Obesity\": 4,\n",
    "    \"Class III Obesity\": 5,\n",
    "})\n",
    "\n",
    "#depression_severity\n",
    "df['depression_severity'] = df['depression_severity'].map({\n",
    "    \"none\": 0,\n",
    "    \"None-minimal\": 1,\n",
    "    \"Mild\":2,\n",
    "    \"Moderate\": 3,\n",
    "    \"Moderately severe\": 4,\n",
    "    \"Severe\": 5,\n",
    "})\n",
    "\n",
    "#anxiety_severity\n",
    "df['anxiety_severity'] = df['anxiety_severity'].replace(0, 'none')\n",
    "\n",
    "df['anxiety_severity'] = df['anxiety_severity'].replace({\n",
    "    'none': 0,\n",
    "    \"None-minimal\": 1,\n",
    "    \"Mild\": 2,\n",
    "    \"Moderate\": 3,\n",
    "    \"Severe\": 4\n",
    "})\n"
   ]
  },
  {
   "cell_type": "markdown",
   "id": "a182fbb8-c422-4d57-b48f-1d8542bfee55",
   "metadata": {},
   "source": [
    "## O restante dos atributos categóricos, False e True para numéricos"
   ]
  },
  {
   "cell_type": "code",
   "execution_count": 14,
   "id": "ea8a71d7-31c9-4baf-8bbd-3187770630c4",
   "metadata": {},
   "outputs": [],
   "source": [
    "colunas = ['depressiveness','suicidal', 'depression_treatment', 'anxiousness', 'anxiety_diagnosis', 'anxiety_treatment', 'sleepiness', 'depression_diagnosis']\n",
    "\n",
    "for coluna in colunas:\n",
    "    df[coluna] = df[coluna].astype(int)"
   ]
  },
  {
   "cell_type": "code",
   "execution_count": 15,
   "id": "41632724-1709-404c-be8b-31783c2ea1a9",
   "metadata": {},
   "outputs": [
    {
     "data": {
      "text/html": [
       "<div>\n",
       "<style scoped>\n",
       "    .dataframe tbody tr th:only-of-type {\n",
       "        vertical-align: middle;\n",
       "    }\n",
       "\n",
       "    .dataframe tbody tr th {\n",
       "        vertical-align: top;\n",
       "    }\n",
       "\n",
       "    .dataframe thead th {\n",
       "        text-align: right;\n",
       "    }\n",
       "</style>\n",
       "<table border=\"1\" class=\"dataframe\">\n",
       "  <thead>\n",
       "    <tr style=\"text-align: right;\">\n",
       "      <th></th>\n",
       "      <th>school_year</th>\n",
       "      <th>age</th>\n",
       "      <th>gender</th>\n",
       "      <th>bmi</th>\n",
       "      <th>who_bmi</th>\n",
       "      <th>phq_score</th>\n",
       "      <th>depression_severity</th>\n",
       "      <th>depressiveness</th>\n",
       "      <th>suicidal</th>\n",
       "      <th>depression_diagnosis</th>\n",
       "      <th>depression_treatment</th>\n",
       "      <th>gad_score</th>\n",
       "      <th>anxiety_severity</th>\n",
       "      <th>anxiousness</th>\n",
       "      <th>anxiety_diagnosis</th>\n",
       "      <th>anxiety_treatment</th>\n",
       "      <th>epworth_score</th>\n",
       "      <th>sleepiness</th>\n",
       "    </tr>\n",
       "  </thead>\n",
       "  <tbody>\n",
       "    <tr>\n",
       "      <th>0</th>\n",
       "      <td>1</td>\n",
       "      <td>19</td>\n",
       "      <td>1</td>\n",
       "      <td>33.333333</td>\n",
       "      <td>3</td>\n",
       "      <td>9</td>\n",
       "      <td>2</td>\n",
       "      <td>0</td>\n",
       "      <td>0</td>\n",
       "      <td>0</td>\n",
       "      <td>0</td>\n",
       "      <td>11</td>\n",
       "      <td>3</td>\n",
       "      <td>1</td>\n",
       "      <td>0</td>\n",
       "      <td>0</td>\n",
       "      <td>7.0</td>\n",
       "      <td>0</td>\n",
       "    </tr>\n",
       "    <tr>\n",
       "      <th>1</th>\n",
       "      <td>1</td>\n",
       "      <td>18</td>\n",
       "      <td>1</td>\n",
       "      <td>19.841270</td>\n",
       "      <td>1</td>\n",
       "      <td>8</td>\n",
       "      <td>2</td>\n",
       "      <td>0</td>\n",
       "      <td>0</td>\n",
       "      <td>0</td>\n",
       "      <td>0</td>\n",
       "      <td>5</td>\n",
       "      <td>2</td>\n",
       "      <td>0</td>\n",
       "      <td>0</td>\n",
       "      <td>0</td>\n",
       "      <td>14.0</td>\n",
       "      <td>1</td>\n",
       "    </tr>\n",
       "    <tr>\n",
       "      <th>2</th>\n",
       "      <td>1</td>\n",
       "      <td>19</td>\n",
       "      <td>1</td>\n",
       "      <td>25.102391</td>\n",
       "      <td>2</td>\n",
       "      <td>8</td>\n",
       "      <td>2</td>\n",
       "      <td>0</td>\n",
       "      <td>0</td>\n",
       "      <td>0</td>\n",
       "      <td>0</td>\n",
       "      <td>6</td>\n",
       "      <td>2</td>\n",
       "      <td>0</td>\n",
       "      <td>0</td>\n",
       "      <td>0</td>\n",
       "      <td>6.0</td>\n",
       "      <td>0</td>\n",
       "    </tr>\n",
       "    <tr>\n",
       "      <th>3</th>\n",
       "      <td>1</td>\n",
       "      <td>18</td>\n",
       "      <td>0</td>\n",
       "      <td>23.738662</td>\n",
       "      <td>1</td>\n",
       "      <td>19</td>\n",
       "      <td>4</td>\n",
       "      <td>1</td>\n",
       "      <td>1</td>\n",
       "      <td>0</td>\n",
       "      <td>0</td>\n",
       "      <td>15</td>\n",
       "      <td>4</td>\n",
       "      <td>1</td>\n",
       "      <td>0</td>\n",
       "      <td>0</td>\n",
       "      <td>11.0</td>\n",
       "      <td>1</td>\n",
       "    </tr>\n",
       "    <tr>\n",
       "      <th>4</th>\n",
       "      <td>1</td>\n",
       "      <td>18</td>\n",
       "      <td>1</td>\n",
       "      <td>25.617284</td>\n",
       "      <td>2</td>\n",
       "      <td>6</td>\n",
       "      <td>2</td>\n",
       "      <td>0</td>\n",
       "      <td>0</td>\n",
       "      <td>0</td>\n",
       "      <td>0</td>\n",
       "      <td>14</td>\n",
       "      <td>3</td>\n",
       "      <td>1</td>\n",
       "      <td>0</td>\n",
       "      <td>0</td>\n",
       "      <td>3.0</td>\n",
       "      <td>0</td>\n",
       "    </tr>\n",
       "    <tr>\n",
       "      <th>...</th>\n",
       "      <td>...</td>\n",
       "      <td>...</td>\n",
       "      <td>...</td>\n",
       "      <td>...</td>\n",
       "      <td>...</td>\n",
       "      <td>...</td>\n",
       "      <td>...</td>\n",
       "      <td>...</td>\n",
       "      <td>...</td>\n",
       "      <td>...</td>\n",
       "      <td>...</td>\n",
       "      <td>...</td>\n",
       "      <td>...</td>\n",
       "      <td>...</td>\n",
       "      <td>...</td>\n",
       "      <td>...</td>\n",
       "      <td>...</td>\n",
       "      <td>...</td>\n",
       "    </tr>\n",
       "    <tr>\n",
       "      <th>778</th>\n",
       "      <td>4</td>\n",
       "      <td>24</td>\n",
       "      <td>0</td>\n",
       "      <td>21.096191</td>\n",
       "      <td>1</td>\n",
       "      <td>6</td>\n",
       "      <td>2</td>\n",
       "      <td>0</td>\n",
       "      <td>0</td>\n",
       "      <td>0</td>\n",
       "      <td>0</td>\n",
       "      <td>1</td>\n",
       "      <td>1</td>\n",
       "      <td>0</td>\n",
       "      <td>0</td>\n",
       "      <td>0</td>\n",
       "      <td>3.0</td>\n",
       "      <td>0</td>\n",
       "    </tr>\n",
       "    <tr>\n",
       "      <th>779</th>\n",
       "      <td>4</td>\n",
       "      <td>22</td>\n",
       "      <td>1</td>\n",
       "      <td>25.308642</td>\n",
       "      <td>2</td>\n",
       "      <td>4</td>\n",
       "      <td>1</td>\n",
       "      <td>0</td>\n",
       "      <td>0</td>\n",
       "      <td>0</td>\n",
       "      <td>0</td>\n",
       "      <td>6</td>\n",
       "      <td>2</td>\n",
       "      <td>0</td>\n",
       "      <td>0</td>\n",
       "      <td>0</td>\n",
       "      <td>3.0</td>\n",
       "      <td>0</td>\n",
       "    </tr>\n",
       "    <tr>\n",
       "      <th>780</th>\n",
       "      <td>4</td>\n",
       "      <td>22</td>\n",
       "      <td>1</td>\n",
       "      <td>22.720438</td>\n",
       "      <td>1</td>\n",
       "      <td>2</td>\n",
       "      <td>1</td>\n",
       "      <td>0</td>\n",
       "      <td>0</td>\n",
       "      <td>0</td>\n",
       "      <td>0</td>\n",
       "      <td>5</td>\n",
       "      <td>2</td>\n",
       "      <td>0</td>\n",
       "      <td>0</td>\n",
       "      <td>0</td>\n",
       "      <td>4.0</td>\n",
       "      <td>0</td>\n",
       "    </tr>\n",
       "    <tr>\n",
       "      <th>781</th>\n",
       "      <td>4</td>\n",
       "      <td>22</td>\n",
       "      <td>0</td>\n",
       "      <td>23.033168</td>\n",
       "      <td>1</td>\n",
       "      <td>17</td>\n",
       "      <td>4</td>\n",
       "      <td>1</td>\n",
       "      <td>0</td>\n",
       "      <td>0</td>\n",
       "      <td>0</td>\n",
       "      <td>19</td>\n",
       "      <td>4</td>\n",
       "      <td>1</td>\n",
       "      <td>0</td>\n",
       "      <td>0</td>\n",
       "      <td>15.0</td>\n",
       "      <td>1</td>\n",
       "    </tr>\n",
       "    <tr>\n",
       "      <th>782</th>\n",
       "      <td>4</td>\n",
       "      <td>22</td>\n",
       "      <td>1</td>\n",
       "      <td>22.598140</td>\n",
       "      <td>1</td>\n",
       "      <td>6</td>\n",
       "      <td>2</td>\n",
       "      <td>0</td>\n",
       "      <td>0</td>\n",
       "      <td>0</td>\n",
       "      <td>0</td>\n",
       "      <td>6</td>\n",
       "      <td>2</td>\n",
       "      <td>0</td>\n",
       "      <td>0</td>\n",
       "      <td>0</td>\n",
       "      <td>0.0</td>\n",
       "      <td>0</td>\n",
       "    </tr>\n",
       "  </tbody>\n",
       "</table>\n",
       "<p>757 rows × 18 columns</p>\n",
       "</div>"
      ],
      "text/plain": [
       "     school_year  age  gender        bmi  who_bmi  phq_score  \\\n",
       "0              1   19       1  33.333333        3          9   \n",
       "1              1   18       1  19.841270        1          8   \n",
       "2              1   19       1  25.102391        2          8   \n",
       "3              1   18       0  23.738662        1         19   \n",
       "4              1   18       1  25.617284        2          6   \n",
       "..           ...  ...     ...        ...      ...        ...   \n",
       "778            4   24       0  21.096191        1          6   \n",
       "779            4   22       1  25.308642        2          4   \n",
       "780            4   22       1  22.720438        1          2   \n",
       "781            4   22       0  23.033168        1         17   \n",
       "782            4   22       1  22.598140        1          6   \n",
       "\n",
       "     depression_severity  depressiveness  suicidal  depression_diagnosis  \\\n",
       "0                      2               0         0                     0   \n",
       "1                      2               0         0                     0   \n",
       "2                      2               0         0                     0   \n",
       "3                      4               1         1                     0   \n",
       "4                      2               0         0                     0   \n",
       "..                   ...             ...       ...                   ...   \n",
       "778                    2               0         0                     0   \n",
       "779                    1               0         0                     0   \n",
       "780                    1               0         0                     0   \n",
       "781                    4               1         0                     0   \n",
       "782                    2               0         0                     0   \n",
       "\n",
       "     depression_treatment  gad_score  anxiety_severity  anxiousness  \\\n",
       "0                       0         11                 3            1   \n",
       "1                       0          5                 2            0   \n",
       "2                       0          6                 2            0   \n",
       "3                       0         15                 4            1   \n",
       "4                       0         14                 3            1   \n",
       "..                    ...        ...               ...          ...   \n",
       "778                     0          1                 1            0   \n",
       "779                     0          6                 2            0   \n",
       "780                     0          5                 2            0   \n",
       "781                     0         19                 4            1   \n",
       "782                     0          6                 2            0   \n",
       "\n",
       "     anxiety_diagnosis  anxiety_treatment  epworth_score  sleepiness  \n",
       "0                    0                  0            7.0           0  \n",
       "1                    0                  0           14.0           1  \n",
       "2                    0                  0            6.0           0  \n",
       "3                    0                  0           11.0           1  \n",
       "4                    0                  0            3.0           0  \n",
       "..                 ...                ...            ...         ...  \n",
       "778                  0                  0            3.0           0  \n",
       "779                  0                  0            3.0           0  \n",
       "780                  0                  0            4.0           0  \n",
       "781                  0                  0           15.0           1  \n",
       "782                  0                  0            0.0           0  \n",
       "\n",
       "[757 rows x 18 columns]"
      ]
     },
     "execution_count": 15,
     "metadata": {},
     "output_type": "execute_result"
    }
   ],
   "source": [
    "df"
   ]
  },
  {
   "cell_type": "markdown",
   "id": "1257bc59-9cf0-4538-82fd-b0010524d042",
   "metadata": {},
   "source": [
    "## Separando as características (X) e rótulos (y)"
   ]
  },
  {
   "cell_type": "code",
   "execution_count": 17,
   "id": "81546a94-b70a-40f7-9bec-9fc0c2873b99",
   "metadata": {},
   "outputs": [],
   "source": [
    "X = df.drop(columns=['depression_diagnosis'])\n",
    "y = df['depression_diagnosis']"
   ]
  },
  {
   "cell_type": "markdown",
   "id": "541611f0-6075-45f2-b409-63e1b2597d37",
   "metadata": {},
   "source": [
    "## Visualizando o desbalanceamanento entre as classes"
   ]
  },
  {
   "cell_type": "code",
   "execution_count": 19,
   "id": "fd2bff5e-ceda-4018-b234-da8b0a3d7710",
   "metadata": {},
   "outputs": [
    {
     "data": {
      "image/png": "[encoded data removed]",
      "text/plain": [
       "<Figure size 640x480 with 1 Axes>"
      ]
     },
     "metadata": {},
     "output_type": "display_data"
    }
   ],
   "source": [
    "ax = sns.countplot(x = \"depression_diagnosis\", data = df)"
   ]
  },
  {
   "cell_type": "markdown",
   "id": "33859939-d254-47b3-8b5f-76bbfaef1031",
   "metadata": {},
   "source": [
    "## Aplicando SMOTE resample"
   ]
  },
  {
   "cell_type": "code",
   "execution_count": 21,
   "id": "54e0128d-a431-4c3c-8889-d384f42a788d",
   "metadata": {},
   "outputs": [],
   "source": [
    "#resampling_strategy=0.5, padrão = 1\n",
    "smt = SMOTE()"
   ]
  },
  {
   "cell_type": "code",
   "execution_count": 22,
   "id": "7e316fd9-0311-4133-b8ca-990420bb4bf1",
   "metadata": {},
   "outputs": [],
   "source": [
    "# Ajustando os dados usando fit_resample \n",
    "X_resampled, y_resampled = smt.fit_resample(X, y)"
   ]
  },
  {
   "cell_type": "markdown",
   "id": "a4be143b-4018-47a0-ad47-93afa1b9953e",
   "metadata": {},
   "source": [
    "### Visualizando o balanceamento "
   ]
  },
  {
   "cell_type": "code",
   "execution_count": 24,
   "id": "aa803c2f-6d58-46df-b1de-a38d1804d1b0",
   "metadata": {},
   "outputs": [
    {
     "name": "stdout",
     "output_type": "stream",
     "text": [
      "Distribuição antes do balanceamento:\n",
      "depression_diagnosis\n",
      "0    693\n",
      "1     64\n",
      "Name: count, dtype: int64\n"
     ]
    }
   ],
   "source": [
    "print(\"Distribuição antes do balanceamento:\") \n",
    "print(df['depression_diagnosis'].value_counts())"
   ]
  },
  {
   "cell_type": "code",
   "execution_count": 25,
   "id": "49d3a9bb-8c1a-4528-953c-f26f0d351094",
   "metadata": {},
   "outputs": [],
   "source": [
    "df_resampled = pd.DataFrame(X_resampled, columns=X.columns) \n",
    "df_resampled['depression_diagnosis'] = y_resampled"
   ]
  },
  {
   "cell_type": "code",
   "execution_count": 26,
   "id": "ebca47a4-078c-4385-aeb2-c61dd413cc75",
   "metadata": {},
   "outputs": [
    {
     "name": "stdout",
     "output_type": "stream",
     "text": [
      "\n",
      "Distribuição depois do balanceamento:\n",
      "depression_diagnosis\n",
      "0    693\n",
      "1    693\n",
      "Name: count, dtype: int64\n"
     ]
    }
   ],
   "source": [
    "print(\"\\nDistribuição depois do balanceamento:\") \n",
    "print(df_resampled['depression_diagnosis'].value_counts())"
   ]
  },
  {
   "cell_type": "code",
   "execution_count": 27,
   "id": "c50d7a13-2013-4c80-862c-1c7f814361dd",
   "metadata": {},
   "outputs": [
    {
     "data": {
      "image/png": "[encoded data removed]",
      "text/plain": [
       "<Figure size 640x480 with 1 Axes>"
      ]
     },
     "metadata": {},
     "output_type": "display_data"
    }
   ],
   "source": [
    "ax = sns.countplot(x = \"depression_diagnosis\", data = df_resampled)"
   ]
  },
  {
   "cell_type": "code",
   "execution_count": 28,
   "id": "a52206a6-6320-44c3-8917-fc3c1893647e",
   "metadata": {},
   "outputs": [
    {
     "data": {
      "text/plain": [
       "(1386, 18)"
      ]
     },
     "execution_count": 28,
     "metadata": {},
     "output_type": "execute_result"
    }
   ],
   "source": [
    "#Quantidade de observações do df reamostrado\n",
    "df_resampled.shape"
   ]
  },
  {
   "cell_type": "markdown",
   "id": "875f4fd4-d5da-4b25-9012-6362d6c0f99a",
   "metadata": {},
   "source": [
    "# KNN\n",
    "Implementação do modelo"
   ]
  },
  {
   "cell_type": "markdown",
   "id": "7dd5460a-7ed1-4570-a3b6-2decee617a46",
   "metadata": {},
   "source": [
    "### Sem resample"
   ]
  },
  {
   "cell_type": "code",
   "execution_count": 31,
   "id": "8fcb61c2-d444-4cfa-840a-b7f7347625f8",
   "metadata": {},
   "outputs": [],
   "source": [
    "#dividindo o dataset em treino e teste com todas as características (holdout)\n",
    "X_train, X_test, y_train, y_test = train_test_split(X, y, test_size=0.3, random_state = 42)"
   ]
  },
  {
   "cell_type": "code",
   "execution_count": 71,
   "id": "25119ca7-7d28-422e-9820-ce684b9a02a1",
   "metadata": {},
   "outputs": [
    {
     "name": "stdout",
     "output_type": "stream",
     "text": [
      "Melhor valor de k: 6\n",
      "Relatório do modelo sem resample com todas as características\n",
      "\n",
      "               precision    recall  f1-score   support\n",
      "\n",
      "           0       0.96      1.00      0.98       218\n",
      "           1       0.00      0.00      0.00        10\n",
      "\n",
      "    accuracy                           0.96       228\n",
      "   macro avg       0.48      0.50      0.49       228\n",
      "weighted avg       0.91      0.96      0.93       228\n",
      "\n",
      "Acurácia média da validação cruzada: 89.60%\n",
      "Desvio padrão da acurácia: 1.25%\n"
     ]
    },
    {
     "name": "stderr",
     "output_type": "stream",
     "text": [
      "C:\\Users\\wesle\\anaconda3\\Lib\\site-packages\\sklearn\\metrics\\_classification.py:1531: UndefinedMetricWarning: Precision is ill-defined and being set to 0.0 in labels with no predicted samples. Use `zero_division` parameter to control this behavior.\n",
      "  _warn_prf(average, modifier, f\"{metric.capitalize()} is\", len(result))\n",
      "C:\\Users\\wesle\\anaconda3\\Lib\\site-packages\\sklearn\\metrics\\_classification.py:1531: UndefinedMetricWarning: Precision is ill-defined and being set to 0.0 in labels with no predicted samples. Use `zero_division` parameter to control this behavior.\n",
      "  _warn_prf(average, modifier, f\"{metric.capitalize()} is\", len(result))\n",
      "C:\\Users\\wesle\\anaconda3\\Lib\\site-packages\\sklearn\\metrics\\_classification.py:1531: UndefinedMetricWarning: Precision is ill-defined and being set to 0.0 in labels with no predicted samples. Use `zero_division` parameter to control this behavior.\n",
      "  _warn_prf(average, modifier, f\"{metric.capitalize()} is\", len(result))\n"
     ]
    }
   ],
   "source": [
    "# testando diferentes valores de k\n",
    "k_values = range(1, 11)\n",
    "accuracies = []\n",
    "\n",
    "for k in k_values:\n",
    "    knn = KNeighborsClassifier(n_neighbors=k,)\n",
    "    knn.fit(X_train, y_train) \n",
    "    y_pred_all_features = knn.predict(X_test)\n",
    "    accuracies.append(accuracy_score(y_test, y_pred_all_features))\n",
    "    \n",
    "\n",
    "best_k = k_values[accuracies.index(max(accuracies))]\n",
    "print(f\"Melhor valor de k: {best_k}\")\n",
    "\n",
    "cv_scores = cross_val_score(knn, X_train, y_train, cv = 10, scoring='accuracy')\n",
    "\n",
    "print('Relatório do modelo sem resample com todas as características\\n\\n', classification_report(y_test, y_pred_all_features))\n",
    "print(f\"Acurácia média da validação cruzada: {cv_scores.mean() * 100:.2f}%\")\n",
    "print(f\"Desvio padrão da acurácia: {cv_scores.std() * 100:.2f}%\")"
   ]
  },
  {
   "cell_type": "markdown",
   "id": "b33adfa5-1e27-4107-be66-afa1db36118b",
   "metadata": {},
   "source": [
    "### Com resample"
   ]
  },
  {
   "cell_type": "code",
   "execution_count": 34,
   "id": "71916f13-4ffb-4001-b136-69cbac54d911",
   "metadata": {},
   "outputs": [],
   "source": [
    "#dividindo o dataset em treino e teste com todas as características (holdout) e reamostrado\n",
    "X_train_resampled, X_test_resampled, y_train_resampled, y_test_resampled = train_test_split(X_resampled, y_resampled, test_size=0.3, random_state = 42)"
   ]
  },
  {
   "cell_type": "code",
   "execution_count": 77,
   "id": "cc11a983-e6f0-497d-a5bc-f870134c4b54",
   "metadata": {},
   "outputs": [
    {
     "name": "stdout",
     "output_type": "stream",
     "text": [
      "Melhor valor de k: 2\n",
      "Relatório do modelo com resample com todas as características\n",
      "\n",
      "               precision    recall  f1-score   support\n",
      "\n",
      "           0       0.94      0.80      0.86       204\n",
      "           1       0.83      0.95      0.89       212\n",
      "\n",
      "    accuracy                           0.88       416\n",
      "   macro avg       0.88      0.87      0.87       416\n",
      "weighted avg       0.88      0.88      0.87       416\n",
      "\n",
      "Acurácia média da validação cruzada: 90.52%\n",
      "Desvio padrão da acurácia: 2.83%\n"
     ]
    }
   ],
   "source": [
    "# testando diferentes valores de k\n",
    "k_values = range(1, 11)\n",
    "accuracies = []\n",
    "\n",
    "for k in k_values:\n",
    "    knn = KNeighborsClassifier(n_neighbors=k)\n",
    "    knn.fit(X_train_resampled, y_train_resampled) \n",
    "    y_pred_all_features = knn.predict(X_test_resampled)\n",
    "    accuracies.append(accuracy_score(y_test_resampled, y_pred_all_features))\n",
    "    \n",
    "\n",
    "best_k = k_values[accuracies.index(max(accuracies))]\n",
    "print(f\"Melhor valor de k: {best_k}\")\n",
    "\n",
    "knn_best = KNeighborsClassifier(best_k)\n",
    "\n",
    "cv_scores = cross_val_score(knn_best, X_train_resampled, y_train_resampled, cv = 10, scoring='accuracy')\n",
    "\n",
    "print('Relatório do modelo com resample com todas as características\\n\\n', classification_report(y_test_resampled, y_pred_all_features))\n",
    "print(f\"Acurácia média da validação cruzada: {cv_scores.mean() * 100:.2f}%\")\n",
    "print(f\"Desvio padrão da acurácia: {cv_scores.std() * 100:.2f}%\")"
   ]
  },
  {
   "cell_type": "markdown",
   "id": "370339fe-135c-4280-9fa9-b96e0a1475a7",
   "metadata": {},
   "source": [
    "### Selecionando os melhores atributos"
   ]
  },
  {
   "cell_type": "code",
   "execution_count": 37,
   "id": "d8e647b1-16c6-4995-a658-44fdb1d407c2",
   "metadata": {},
   "outputs": [
    {
     "name": "stdout",
     "output_type": "stream",
     "text": [
      "Características selecionadas:\n",
      " Index(['depression_severity', 'depressiveness', 'depression_treatment',\n",
      "       'anxiety_diagnosis', 'anxiety_treatment'],\n",
      "      dtype='object')\n"
     ]
    }
   ],
   "source": [
    "selector = SelectKBest(score_func = f_classif, k=5)\n",
    "X_selected = selector.fit_transform(X, y)\n",
    "view_features = X.columns[selector.get_support()]\n",
    "\n",
    "print(\"Características selecionadas:\\n\", view_features)"
   ]
  },
  {
   "cell_type": "code",
   "execution_count": 38,
   "id": "cb59c951-af20-48b1-9d88-056268f7714e",
   "metadata": {},
   "outputs": [
    {
     "name": "stdout",
     "output_type": "stream",
     "text": [
      "Distribuição das classes após SMOTE: depression_diagnosis\n",
      "0    693\n",
      "1    693\n",
      "Name: count, dtype: int64\n"
     ]
    }
   ],
   "source": [
    "#novo SMOTE para as características selecionadas\n",
    "X_resampled_selected, y_resampled_selected = smt.fit_resample(X_selected, y)\n",
    "print(f\"Distribuição das classes após SMOTE: {y_resampled_selected.value_counts()}\")"
   ]
  },
  {
   "cell_type": "code",
   "execution_count": 39,
   "id": "09e63011-0d87-4c8e-8b58-c8dda8573889",
   "metadata": {},
   "outputs": [],
   "source": [
    "#divisão de treino e teste com os melhores atributos (holdout)\n",
    "X_train_selected, X_test_selected, y_train_selected, y_test_selected = train_test_split(X_resampled_selected, y_resampled_selected, test_size=0.3, random_state = 42)"
   ]
  },
  {
   "cell_type": "code",
   "execution_count": 73,
   "id": "aa1a3feb-df96-4245-8fc0-db38205c88ee",
   "metadata": {},
   "outputs": [
    {
     "name": "stdout",
     "output_type": "stream",
     "text": [
      "Melhor valor de k: 1\n",
      "Relatório do modelo com as melhores características selecionadas\n",
      "\n",
      "               precision    recall  f1-score   support\n",
      "\n",
      "           0       0.83      0.96      0.89       204\n",
      "           1       0.95      0.82      0.88       212\n",
      "\n",
      "    accuracy                           0.88       416\n",
      "   macro avg       0.89      0.89      0.88       416\n",
      "weighted avg       0.89      0.88      0.88       416\n",
      "\n",
      "Acurácia média da validação cruzada: 89.79%\n",
      "Desvio padrão da acurácia: 2.75%\n"
     ]
    }
   ],
   "source": [
    "# testando diferentes valores de k\n",
    "k_values = range(1, 11)\n",
    "accuracies = []\n",
    "\n",
    "for k in k_values:\n",
    "    knn = KNeighborsClassifier(n_neighbors=k)\n",
    "    knn.fit(X_train_selected, y_train_selected) \n",
    "    y_pred_selected_features = knn.predict(X_test_selected)\n",
    "    accuracies.append(accuracy_score(y_test_selected, y_pred_selected_features))\n",
    "\n",
    "best_k = k_values[accuracies.index(max(accuracies))]\n",
    "print(f\"Melhor valor de k: {best_k}\")\n",
    "\n",
    "cv_scores = cross_val_score(knn, X_train_selected,  y_train_selected, cv = 10, scoring='accuracy')\n",
    "\n",
    "print('Relatório do modelo com as melhores características selecionadas\\n\\n', classification_report(y_test_selected, y_pred_selected_features ))\n",
    "print(f\"Acurácia média da validação cruzada: {cv_scores.mean() * 100:.2f}%\")\n",
    "print(f\"Desvio padrão da acurácia: {cv_scores.std() * 100:.2f}%\")"
   ]
  }
 ],
 "metadata": {
  "kernelspec": {
   "display_name": "Python 3 (ipykernel)",
   "language": "python",
   "name": "python3"
  },
  "language_info": {
   "codemirror_mode": {
    "name": "ipython",
    "version": 3
   },
   "file_extension": ".py",
   "mimetype": "text/x-python",
   "name": "python",
   "nbconvert_exporter": "python",
   "pygments_lexer": "ipython3",
   "version": "3.12.7"
  }
 },
 "nbformat": 4,
 "nbformat_minor": 5
}
