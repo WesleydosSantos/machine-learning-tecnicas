{
 "cells": [
  {
   "cell_type": "markdown",
   "id": "4eec8b78-484a-48c0-97ac-7c3bc3b06cc6",
   "metadata": {},
   "source": [
    "<div style=\"text-align: center;\">\n",
    "    <h1>Versão em andamento</h1>\n",
    "</div>"
   ]
  },
  {
   "cell_type": "code",
   "execution_count": 2,
   "id": "5d6994b5-9a29-4dbc-bd19-f8602ee1dd0e",
   "metadata": {},
   "outputs": [],
   "source": [
    "import pandas as pd\n",
    "import numpy as np\n",
    "import seaborn as sns\n",
    "from sklearn.ensemble import RandomForestClassifier\n",
    "from sklearn.model_selection import train_test_split, cross_val_score\n",
    "from sklearn.metrics import classification_report\n",
    "from sklearn.metrics import accuracy_score, f1_score, confusion_matrix, recall_score, classification_report\n",
    "from sklearn.feature_selection import SelectKBest, f_classif\n",
    "from imblearn.over_sampling import SMOTE "
   ]
  },
  {
   "cell_type": "code",
   "execution_count": 4,
   "id": "9430de6f-8d15-42b7-8211-3b5a1638073e",
   "metadata": {},
   "outputs": [],
   "source": [
    "df = pd.read_csv('C:/Users/wesle/machine-learning-tecnicas/Dataset/depression_data.csv')\n",
    "\n",
    "df.drop('id', axis = 1, inplace = True)"
   ]
  },
  {
   "cell_type": "code",
   "execution_count": 6,
   "id": "4db80098-0377-4420-b11f-d4aec35cbefc",
   "metadata": {},
   "outputs": [
    {
     "data": {
      "text/plain": [
       "school_year             0\n",
       "age                     0\n",
       "gender                  0\n",
       "bmi                     0\n",
       "who_bmi                 0\n",
       "phq_score               0\n",
       "depression_severity     4\n",
       "depressiveness          3\n",
       "suicidal                1\n",
       "depression_diagnosis    1\n",
       "depression_treatment    4\n",
       "gad_score               0\n",
       "anxiety_severity        0\n",
       "anxiousness             6\n",
       "anxiety_diagnosis       4\n",
       "anxiety_treatment       2\n",
       "epworth_score           8\n",
       "sleepiness              8\n",
       "dtype: int64"
      ]
     },
     "execution_count": 6,
     "metadata": {},
     "output_type": "execute_result"
    }
   ],
   "source": [
    "df.isnull().sum()"
   ]
  },
  {
   "cell_type": "code",
   "execution_count": null,
   "id": "af28dc7d-32fc-4e0f-ae5f-89870027dada",
   "metadata": {},
   "outputs": [],
   "source": [
    "print('Antes da remoção de missings:\\n', df['anxiety_diagnosis'].value_counts(),'\\n')\n",
    "print('Antes da remoção de missings:\\n', df['depression_diagnosis'].value_counts())"
   ]
  },
  {
   "cell_type": "code",
   "execution_count": 8,
   "id": "05723482-3752-4d7a-b13e-988775b464fe",
   "metadata": {},
   "outputs": [],
   "source": [
    "df.dropna(inplace = True) #removendo valores missing, 18 observações foram removidos (783-165)"
   ]
  },
  {
   "cell_type": "code",
   "execution_count": null,
   "id": "46f04003-021a-44ac-8be6-369d64e36e11",
   "metadata": {},
   "outputs": [],
   "source": [
    "print('Depois da remoção de missings:\\n', df['anxiety_diagnosis'].value_counts(),'\\n')\n",
    "print('Depois da remoção de missings:\\n', df['depression_diagnosis'].value_counts())"
   ]
  },
  {
   "cell_type": "code",
   "execution_count": 10,
   "id": "a3467398-4d99-41fb-ba9e-0ac244492167",
   "metadata": {},
   "outputs": [],
   "source": [
    "df = df[df['who_bmi'] != 'Not Availble'] #a partir daqui, not availble não aparece mais, pega todos os elementos menos ele, isso significa que mais 8 observações foram removidas"
   ]
  },
  {
   "cell_type": "code",
   "execution_count": 12,
   "id": "e7d7863d-c39d-46f0-8fcc-760f709a8394",
   "metadata": {},
   "outputs": [
    {
     "data": {
      "text/plain": [
       "(757, 18)"
      ]
     },
     "execution_count": 12,
     "metadata": {},
     "output_type": "execute_result"
    }
   ],
   "source": [
    "df.shape"
   ]
  },
  {
   "cell_type": "markdown",
   "id": "5958b728-d200-4b55-9400-3195866f4f72",
   "metadata": {},
   "source": [
    "## Transformando dados categórico para numérico"
   ]
  },
  {
   "cell_type": "code",
   "execution_count": 14,
   "id": "b532ef87-6462-4256-b933-619a131c08cd",
   "metadata": {},
   "outputs": [
    {
     "name": "stderr",
     "output_type": "stream",
     "text": [
      "C:\\Users\\wesle\\AppData\\Local\\Temp\\ipykernel_10572\\114210172.py:27: FutureWarning: Downcasting behavior in `replace` is deprecated and will be removed in a future version. To retain the old behavior, explicitly call `result.infer_objects(copy=False)`. To opt-in to the future behavior, set `pd.set_option('future.no_silent_downcasting', True)`\n",
      "  df['anxiety_severity'] = df['anxiety_severity'].replace({\n"
     ]
    }
   ],
   "source": [
    "#gender\n",
    "df['gender'] = df['gender'].map({'female':0,'male':1})\n",
    "\n",
    "#who_bmi\n",
    "df['who_bmi'] = df['who_bmi'].map( {\n",
    "    \"Underweight\": 0,\n",
    "    \"Normal\": 1,\n",
    "    \"Overweight\": 2,\n",
    "    \"Class I Obesity\": 3,\n",
    "    \"Class II Obesity\": 4,\n",
    "    \"Class III Obesity\": 5,\n",
    "})\n",
    "\n",
    "#depression_severity\n",
    "df['depression_severity'] = df['depression_severity'].map({\n",
    "    \"none\": 0,\n",
    "    \"None-minimal\": 1,\n",
    "    \"Mild\":2,\n",
    "    \"Moderate\": 3,\n",
    "    \"Moderately severe\": 4,\n",
    "    \"Severe\": 5,\n",
    "})\n",
    "\n",
    "#anxiety_severity\n",
    "df['anxiety_severity'] = df['anxiety_severity'].replace(0, 'none')\n",
    "\n",
    "df['anxiety_severity'] = df['anxiety_severity'].replace({\n",
    "    'none': 0,\n",
    "    \"None-minimal\": 1,\n",
    "    \"Mild\": 2,\n",
    "    \"Moderate\": 3,\n",
    "    \"Severe\": 4\n",
    "})\n"
   ]
  },
  {
   "cell_type": "markdown",
   "id": "a182fbb8-c422-4d57-b48f-1d8542bfee55",
   "metadata": {},
   "source": [
    "## O restante dos atributos categóricos, False e True para numéricos"
   ]
  },
  {
   "cell_type": "code",
   "execution_count": 16,
   "id": "ea8a71d7-31c9-4baf-8bbd-3187770630c4",
   "metadata": {},
   "outputs": [],
   "source": [
    "colunas = ['depressiveness','suicidal', 'depression_treatment', 'anxiousness', 'anxiety_diagnosis', 'anxiety_treatment', 'sleepiness', 'depression_diagnosis']\n",
    "\n",
    "for coluna in colunas:\n",
    "    df[coluna] = df[coluna].astype(int)"
   ]
  },
  {
   "cell_type": "code",
   "execution_count": null,
   "id": "41632724-1709-404c-be8b-31783c2ea1a9",
   "metadata": {},
   "outputs": [],
   "source": [
    "df"
   ]
  },
  {
   "cell_type": "markdown",
   "id": "1257bc59-9cf0-4538-82fd-b0010524d042",
   "metadata": {},
   "source": [
    "## Separando as características (X) e rótulos (y)"
   ]
  },
  {
   "cell_type": "code",
   "execution_count": 18,
   "id": "81546a94-b70a-40f7-9bec-9fc0c2873b99",
   "metadata": {},
   "outputs": [],
   "source": [
    "X = df.drop(columns=['depression_diagnosis'])\n",
    "y = df['depression_diagnosis']"
   ]
  },
  {
   "cell_type": "markdown",
   "id": "541611f0-6075-45f2-b409-63e1b2597d37",
   "metadata": {},
   "source": [
    "## Visualizando o desbalanceamanento entre as classes"
   ]
  },
  {
   "cell_type": "code",
   "execution_count": null,
   "id": "fd2bff5e-ceda-4018-b234-da8b0a3d7710",
   "metadata": {},
   "outputs": [],
   "source": [
    "ax = sns.countplot(x = \"depression_diagnosis\", data = df)"
   ]
  },
  {
   "cell_type": "markdown",
   "id": "33859939-d254-47b3-8b5f-76bbfaef1031",
   "metadata": {},
   "source": [
    "## Aplicando SMOTE resample"
   ]
  },
  {
   "cell_type": "code",
   "execution_count": 20,
   "id": "54e0128d-a431-4c3c-8889-d384f42a788d",
   "metadata": {},
   "outputs": [],
   "source": [
    "#resampling_strategy=0.5, padrão = 1\n",
    "smt = SMOTE()"
   ]
  },
  {
   "cell_type": "code",
   "execution_count": 22,
   "id": "7e316fd9-0311-4133-b8ca-990420bb4bf1",
   "metadata": {},
   "outputs": [],
   "source": [
    "# Ajustando os dados usando fit_resample \n",
    "X_resampled, y_resampled = smt.fit_resample(X, y)"
   ]
  },
  {
   "cell_type": "markdown",
   "id": "a4be143b-4018-47a0-ad47-93afa1b9953e",
   "metadata": {},
   "source": [
    "### Visualizando o balanceamento "
   ]
  },
  {
   "cell_type": "code",
   "execution_count": null,
   "id": "aa803c2f-6d58-46df-b1de-a38d1804d1b0",
   "metadata": {},
   "outputs": [],
   "source": [
    "print(\"Distribuição antes do balanceamento:\") \n",
    "print(df['depression_diagnosis'].value_counts())"
   ]
  },
  {
   "cell_type": "code",
   "execution_count": 26,
   "id": "49d3a9bb-8c1a-4528-953c-f26f0d351094",
   "metadata": {},
   "outputs": [],
   "source": [
    "df_resampled = pd.DataFrame(X_resampled, columns=X.columns) \n",
    "df_resampled['depression_diagnosis'] = y_resampled"
   ]
  },
  {
   "cell_type": "code",
   "execution_count": null,
   "id": "ebca47a4-078c-4385-aeb2-c61dd413cc75",
   "metadata": {},
   "outputs": [],
   "source": [
    "print(\"\\nDistribuição depois do balanceamento:\") \n",
    "print(df_resampled['depression_diagnosis'].value_counts())"
   ]
  },
  {
   "cell_type": "code",
   "execution_count": null,
   "id": "c50d7a13-2013-4c80-862c-1c7f814361dd",
   "metadata": {},
   "outputs": [],
   "source": [
    "ax = sns.countplot(x = \"depression_diagnosis\", data = df_resampled)"
   ]
  },
  {
   "cell_type": "code",
   "execution_count": 28,
   "id": "a52206a6-6320-44c3-8917-fc3c1893647e",
   "metadata": {},
   "outputs": [
    {
     "data": {
      "text/plain": [
       "(1386, 18)"
      ]
     },
     "execution_count": 28,
     "metadata": {},
     "output_type": "execute_result"
    }
   ],
   "source": [
    "#Quantidade de observações do df reamostrado\n",
    "df_resampled.shape"
   ]
  },
  {
   "cell_type": "markdown",
   "id": "875f4fd4-d5da-4b25-9012-6362d6c0f99a",
   "metadata": {},
   "source": [
    "# Random Forest\n",
    "Implementação do modelo"
   ]
  },
  {
   "cell_type": "code",
   "execution_count": 30,
   "id": "d3a88985-571d-4fe2-8c9c-ebd904202188",
   "metadata": {},
   "outputs": [],
   "source": [
    "#Instanciando o modelo\n",
    "random_forest = RandomForestClassifier(n_estimators=100)"
   ]
  },
  {
   "cell_type": "markdown",
   "id": "7dd5460a-7ed1-4570-a3b6-2decee617a46",
   "metadata": {},
   "source": [
    "### Sem resample"
   ]
  },
  {
   "cell_type": "code",
   "execution_count": 32,
   "id": "783800f6-c166-4140-b1ee-5df64c3c1f33",
   "metadata": {},
   "outputs": [
    {
     "name": "stdout",
     "output_type": "stream",
     "text": [
      "Relatório do modelo sem resample com todas as características\n",
      "\n",
      "               precision    recall  f1-score   support\n",
      "\n",
      "           0       0.94      1.00      0.97       209\n",
      "           1       0.86      0.32      0.46        19\n",
      "\n",
      "    accuracy                           0.94       228\n",
      "   macro avg       0.90      0.66      0.71       228\n",
      "weighted avg       0.93      0.94      0.93       228\n",
      "\n",
      "Acurácia média da validação cruzada: 93.95%\n",
      "Desvio padrão da acurácia: 3.13%\n"
     ]
    }
   ],
   "source": [
    "#dividindo o dataset em treino e teste com todas as características (holdout)\n",
    "X_train, X_test, y_train, y_test = train_test_split(X, y, test_size=0.3, random_state = 42)\n",
    "\n",
    "random_forest.fit(X_train, y_train)\n",
    "\n",
    "y_pred_all_features = random_forest.predict(X_test)\n",
    "\n",
    "#avaliando o modelo com o cross-validation\n",
    "cv_scores = cross_val_score(random_forest, X_train, y_train, cv = 10, scoring='accuracy')\n",
    "\n",
    "print('Relatório do modelo sem resample com todas as características\\n\\n', classification_report(y_test, y_pred_all_features))\n",
    "print(f\"Acurácia média da validação cruzada: {cv_scores.mean() * 100:.2f}%\")\n",
    "print(f\"Desvio padrão da acurácia: {cv_scores.std() * 100:.2f}%\")"
   ]
  },
  {
   "cell_type": "markdown",
   "id": "b33adfa5-1e27-4107-be66-afa1db36118b",
   "metadata": {},
   "source": [
    "### Com resample"
   ]
  },
  {
   "cell_type": "code",
   "execution_count": 34,
   "id": "d9e7555f-acb3-4fdb-bcbc-cd1cc299b962",
   "metadata": {},
   "outputs": [
    {
     "name": "stdout",
     "output_type": "stream",
     "text": [
      "Relatório do modelo com resample com todas as características\n",
      "\n",
      "               precision    recall  f1-score   support\n",
      "\n",
      "           0       0.94      0.92      0.93       207\n",
      "           1       0.92      0.94      0.93       209\n",
      "\n",
      "    accuracy                           0.93       416\n",
      "   macro avg       0.93      0.93      0.93       416\n",
      "weighted avg       0.93      0.93      0.93       416\n",
      "\n",
      "Acurácia média da validação cruzada: 92.89%\n",
      "Desvio padrão da acurácia: 3.04%\n"
     ]
    }
   ],
   "source": [
    "#dividindo o dataset em treino e teste com todas as características (holdout) e reamostrado\n",
    "X_train, X_test, y_train, y_test = train_test_split(X_resampled, y_resampled, test_size=0.3, random_state = 42)\n",
    "\n",
    "random_forest.fit(X_train, y_train)\n",
    "\n",
    "y_pred_all_features_resampled = random_forest.predict(X_test)\n",
    "\n",
    "#avaliando o modelo com o cross-validation\n",
    "cv_scores = cross_val_score(random_forest, X_train, y_train, cv = 10, scoring='accuracy')\n",
    "\n",
    "print('Relatório do modelo com resample com todas as características\\n\\n', classification_report(y_test, y_pred_all_features_resampled))\n",
    "print(f\"Acurácia média da validação cruzada: {cv_scores.mean() * 100:.2f}%\")\n",
    "print(f\"Desvio padrão da acurácia: {cv_scores.std() * 100:.2f}%\")"
   ]
  },
  {
   "cell_type": "markdown",
   "id": "370339fe-135c-4280-9fa9-b96e0a1475a7",
   "metadata": {},
   "source": [
    "### Selecionando os melhores atributos"
   ]
  },
  {
   "cell_type": "code",
   "execution_count": 36,
   "id": "d8e647b1-16c6-4995-a658-44fdb1d407c2",
   "metadata": {},
   "outputs": [
    {
     "name": "stdout",
     "output_type": "stream",
     "text": [
      "Características selecionadas:\n",
      " Index(['depression_severity', 'depressiveness', 'depression_treatment',\n",
      "       'anxiety_diagnosis', 'anxiety_treatment'],\n",
      "      dtype='object')\n"
     ]
    }
   ],
   "source": [
    "selector = SelectKBest(score_func = f_classif, k=5)\n",
    "X_selected = selector.fit_transform(X, y)\n",
    "view_features = X.columns[selector.get_support()]\n",
    "\n",
    "print(\"Características selecionadas:\\n\", view_features)"
   ]
  },
  {
   "cell_type": "code",
   "execution_count": 38,
   "id": "cb59c951-af20-48b1-9d88-056268f7714e",
   "metadata": {},
   "outputs": [
    {
     "name": "stdout",
     "output_type": "stream",
     "text": [
      "Distribuição das classes após SMOTE: depression_diagnosis\n",
      "0    693\n",
      "1    693\n",
      "Name: count, dtype: int64\n"
     ]
    }
   ],
   "source": [
    "#novo SMOTE para as características selecionadas\n",
    "X_resampled_selected, y_resampled_selected = smt.fit_resample(X_selected, y)\n",
    "print(f\"Distribuição das classes após SMOTE: {y_resampled_selected.value_counts()}\")"
   ]
  },
  {
   "cell_type": "code",
   "execution_count": 40,
   "id": "647b7787-6ee3-4e4a-8ea5-f1e621e7939a",
   "metadata": {},
   "outputs": [
    {
     "name": "stdout",
     "output_type": "stream",
     "text": [
      "Relatório do modelo com as melhores características selecionadas\n",
      "\n",
      "               precision    recall  f1-score   support\n",
      "\n",
      "           0       0.95      0.99      0.97       223\n",
      "           1       0.98      0.94      0.96       193\n",
      "\n",
      "    accuracy                           0.97       416\n",
      "   macro avg       0.97      0.96      0.97       416\n",
      "weighted avg       0.97      0.97      0.97       416\n",
      "\n",
      "Acurácia média da validação cruzada: 93.51%\n",
      "Desvio padrão da acurácia: 2.12%\n"
     ]
    }
   ],
   "source": [
    "#divisão de treino e teste com os melhores atributos (holdout)\n",
    "X_train_selected, X_test_selected, y_train_selected, y_test_selected = train_test_split(X_resampled_selected, y_resampled_selected, test_size=0.3, random_state = 42)\n",
    "\n",
    "random_forest.fit(X_train_selected, y_train_selected)\n",
    "\n",
    "y_pred_selected_features = random_forest.predict( X_test_selected)\n",
    "\n",
    "#avaliando o modelo com o cross-validation\n",
    "cv_scores = cross_val_score(random_forest, X_train_selected,  y_train_selected, cv = 10, scoring='accuracy')\n",
    "\n",
    "print('Relatório do modelo com as melhores características selecionadas\\n\\n', classification_report(y_test_selected, y_pred_selected_features ))\n",
    "print(f\"Acurácia média da validação cruzada: {cv_scores.mean() * 100:.2f}%\")\n",
    "print(f\"Desvio padrão da acurácia: {cv_scores.std() * 100:.2f}%\")"
   ]
  }
 ],
 "metadata": {
  "kernelspec": {
   "display_name": "Python 3 (ipykernel)",
   "language": "python",
   "name": "python3"
  },
  "language_info": {
   "codemirror_mode": {
    "name": "ipython",
    "version": 3
   },
   "file_extension": ".py",
   "mimetype": "text/x-python",
   "name": "python",
   "nbconvert_exporter": "python",
   "pygments_lexer": "ipython3",
   "version": "3.12.7"
  }
 },
 "nbformat": 4,
 "nbformat_minor": 5
}
