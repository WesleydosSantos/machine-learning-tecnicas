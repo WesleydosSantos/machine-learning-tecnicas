{
 "cells": [
  {
   "cell_type": "markdown",
   "id": "4eec8b78-484a-48c0-97ac-7c3bc3b06cc6",
   "metadata": {},
   "source": [
    "<div style=\"text-align: center;\">\n",
    "    <h1>SVM</h1>\n",
    "</div>"
   ]
  },
  {
   "cell_type": "markdown",
   "id": "a8fb53f3-9cd2-4875-b82b-dc16b774c1fb",
   "metadata": {},
   "source": [
    "# Importar Bibliotecas"
   ]
  },
  {
   "cell_type": "code",
   "execution_count": 10,
   "id": "5d6994b5-9a29-4dbc-bd19-f8602ee1dd0e",
   "metadata": {},
   "outputs": [],
   "source": [
    "import pandas as pd\n",
    "import numpy as np\n",
    "import seaborn as sns\n",
    "from sklearn.svm import SVC\n",
    "from sklearn.model_selection import train_test_split, cross_val_score\n",
    "from sklearn.metrics import confusion_matrix, classification_report\n",
    "from sklearn.feature_selection import SelectKBest, f_classif\n",
    "from sklearn.preprocessing import StandardScaler\n",
    "from imblearn.over_sampling import SMOTE \n",
    "from collections import Counter\n",
    "import matplotlib.pyplot as plt"
   ]
  },
  {
   "cell_type": "markdown",
   "id": "3c5c80e1-0ab3-4e10-8182-62c1d4c0c2a3",
   "metadata": {},
   "source": [
    "# Carregar e explorar o dataset"
   ]
  },
  {
   "cell_type": "code",
   "execution_count": 12,
   "id": "b11648f4-d970-4d8d-9b89-9810c7eabf5d",
   "metadata": {},
   "outputs": [],
   "source": [
    "df_data = pd.read_csv('C:/Users/wesle/machine-learning-tecnicas/Dataset/depression_anxiety_data.csv')"
   ]
  },
  {
   "cell_type": "code",
   "execution_count": 13,
   "id": "cb8347b8-a3fc-4d27-bd9c-c8bb84947ecc",
   "metadata": {},
   "outputs": [
    {
     "name": "stdout",
     "output_type": "stream",
     "text": [
      "   id  school_year  age  gender        bmi          who_bmi  phq_score  \\\n",
      "0   1            1   19    male  33.333333  Class I Obesity          9   \n",
      "1   2            1   18    male  19.841270           Normal          8   \n",
      "2   3            1   19    male  25.102391       Overweight          8   \n",
      "3   4            1   18  female  23.738662           Normal         19   \n",
      "4   5            1   18    male  25.617284       Overweight          6   \n",
      "\n",
      "  depression_severity depressiveness suicidal depression_diagnosis  \\\n",
      "0                Mild          False    False                False   \n",
      "1                Mild          False    False                False   \n",
      "2                Mild          False    False                False   \n",
      "3   Moderately severe           True     True                False   \n",
      "4                Mild          False    False                False   \n",
      "\n",
      "  depression_treatment  gad_score anxiety_severity anxiousness  \\\n",
      "0                False         11         Moderate        True   \n",
      "1                False          5             Mild       False   \n",
      "2                False          6             Mild       False   \n",
      "3                False         15           Severe        True   \n",
      "4                False         14         Moderate        True   \n",
      "\n",
      "  anxiety_diagnosis anxiety_treatment  epworth_score sleepiness  \n",
      "0             False             False            7.0      False  \n",
      "1             False             False           14.0       True  \n",
      "2             False             False            6.0      False  \n",
      "3             False             False           11.0       True  \n",
      "4             False             False            3.0      False  \n"
     ]
    }
   ],
   "source": [
    "# Visualizar as Primeiras Linhas\n",
    "print(df_data.head(5))"
   ]
  },
  {
   "cell_type": "code",
   "execution_count": 14,
   "id": "5fa43ce3-2f43-4db0-b6ed-da5242a23039",
   "metadata": {},
   "outputs": [
    {
     "name": "stdout",
     "output_type": "stream",
     "text": [
      "               id  school_year         age         bmi   phq_score  \\\n",
      "count  783.000000   783.000000  783.000000  783.000000  783.000000   \n",
      "mean   392.000000     2.277139   20.233716   23.420533    7.123883   \n",
      "std    226.176922     1.163633    1.767217    4.563630    4.426580   \n",
      "min      1.000000     1.000000   18.000000    0.000000    0.000000   \n",
      "25%    196.500000     1.000000   19.000000   20.989420    4.000000   \n",
      "50%    392.000000     2.000000   20.000000   23.140496    6.000000   \n",
      "75%    587.500000     3.000000   21.000000   25.519924    9.000000   \n",
      "max    783.000000     4.000000   31.000000   54.552668   24.000000   \n",
      "\n",
      "        gad_score  epworth_score  \n",
      "count  783.000000     775.000000  \n",
      "mean     6.810983       6.376774  \n",
      "std      4.727352       3.996443  \n",
      "min      0.000000       0.000000  \n",
      "25%      3.000000       3.500000  \n",
      "50%      6.000000       6.000000  \n",
      "75%      9.000000       9.000000  \n",
      "max     21.000000      32.000000  \n"
     ]
    }
   ],
   "source": [
    "# Resumo Estatístico\n",
    "print(df_data.describe())"
   ]
  },
  {
   "cell_type": "code",
   "execution_count": 15,
   "id": "07a23a23-07f0-4077-bb02-04885171f6e4",
   "metadata": {},
   "outputs": [
    {
     "name": "stdout",
     "output_type": "stream",
     "text": [
      "<class 'pandas.core.frame.DataFrame'>\n",
      "RangeIndex: 783 entries, 0 to 782\n",
      "Data columns (total 19 columns):\n",
      " #   Column                Non-Null Count  Dtype  \n",
      "---  ------                --------------  -----  \n",
      " 0   id                    783 non-null    int64  \n",
      " 1   school_year           783 non-null    int64  \n",
      " 2   age                   783 non-null    int64  \n",
      " 3   gender                783 non-null    object \n",
      " 4   bmi                   783 non-null    float64\n",
      " 5   who_bmi               783 non-null    object \n",
      " 6   phq_score             783 non-null    int64  \n",
      " 7   depression_severity   779 non-null    object \n",
      " 8   depressiveness        780 non-null    object \n",
      " 9   suicidal              782 non-null    object \n",
      " 10  depression_diagnosis  782 non-null    object \n",
      " 11  depression_treatment  779 non-null    object \n",
      " 12  gad_score             783 non-null    int64  \n",
      " 13  anxiety_severity      783 non-null    object \n",
      " 14  anxiousness           777 non-null    object \n",
      " 15  anxiety_diagnosis     779 non-null    object \n",
      " 16  anxiety_treatment     781 non-null    object \n",
      " 17  epworth_score         775 non-null    float64\n",
      " 18  sleepiness            775 non-null    object \n",
      "dtypes: float64(2), int64(5), object(12)\n",
      "memory usage: 116.4+ KB\n",
      "None\n"
     ]
    }
   ],
   "source": [
    "# Informações do DataFrame\n",
    "print(df_data.info())"
   ]
  },
  {
   "cell_type": "code",
   "execution_count": 16,
   "id": "dcaa0aa7-1482-41fe-8ac2-b605ca107a26",
   "metadata": {},
   "outputs": [
    {
     "name": "stdout",
     "output_type": "stream",
     "text": [
      "id                      783\n",
      "school_year               4\n",
      "age                      13\n",
      "gender                    2\n",
      "bmi                     516\n",
      "who_bmi                   7\n",
      "phq_score                24\n",
      "depression_severity       6\n",
      "depressiveness            2\n",
      "suicidal                  2\n",
      "depression_diagnosis      2\n",
      "depression_treatment      2\n",
      "gad_score                22\n",
      "anxiety_severity          5\n",
      "anxiousness               2\n",
      "anxiety_diagnosis         2\n",
      "anxiety_treatment         2\n",
      "epworth_score            24\n",
      "sleepiness                2\n",
      "dtype: int64\n"
     ]
    }
   ],
   "source": [
    "# Valores Únicos por Coluna\n",
    "print(df_data.nunique())"
   ]
  },
  {
   "cell_type": "code",
   "execution_count": 17,
   "id": "d40b2004-1eb4-4dde-89d3-682d2566930a",
   "metadata": {},
   "outputs": [
    {
     "name": "stdout",
     "output_type": "stream",
     "text": [
      "id                      0\n",
      "school_year             0\n",
      "age                     0\n",
      "gender                  0\n",
      "bmi                     0\n",
      "who_bmi                 0\n",
      "phq_score               0\n",
      "depression_severity     4\n",
      "depressiveness          3\n",
      "suicidal                1\n",
      "depression_diagnosis    1\n",
      "depression_treatment    4\n",
      "gad_score               0\n",
      "anxiety_severity        0\n",
      "anxiousness             6\n",
      "anxiety_diagnosis       4\n",
      "anxiety_treatment       2\n",
      "epworth_score           8\n",
      "sleepiness              8\n",
      "dtype: int64\n"
     ]
    }
   ],
   "source": [
    "# Verificar Dados Ausentes\n",
    "print(df_data.isnull().sum())"
   ]
  },
  {
   "cell_type": "code",
   "execution_count": 18,
   "id": "e394750e-46d3-4ed4-a001-b00eb98364b6",
   "metadata": {},
   "outputs": [
    {
     "data": {
      "image/png": "[encoded data removed]",
      "text/plain": [
       "<Figure size 800x600 with 1 Axes>"
      ]
     },
     "metadata": {},
     "output_type": "display_data"
    }
   ],
   "source": [
    "# Distribuição da Variável Alvo\n",
    "plt.figure(figsize=(8, 6))\n",
    "sns.countplot(x='depression_diagnosis', data=df_data)\n",
    "plt.title('Distribuição da Variável Alvo')\n",
    "plt.xlabel('Classes')\n",
    "plt.ylabel('Contagem')\n",
    "plt.show()"
   ]
  },
  {
   "cell_type": "markdown",
   "id": "507f59a7-c61c-44e6-b57d-099bbcd7f8c9",
   "metadata": {},
   "source": [
    "# Remoção de missings e transformação de dados categóricos para numéricos"
   ]
  },
  {
   "cell_type": "code",
   "execution_count": 20,
   "id": "28b09b63-1d73-4903-ac88-8de1ed0313c7",
   "metadata": {},
   "outputs": [],
   "source": [
    "df_data.drop('id', axis = 1, inplace = True)"
   ]
  },
  {
   "cell_type": "code",
   "execution_count": 21,
   "id": "6d73449c-03af-4d68-9ac9-90ff8fa53b8f",
   "metadata": {},
   "outputs": [
    {
     "name": "stdout",
     "output_type": "stream",
     "text": [
      "Antes da remoção de missings:\n",
      " depression_diagnosis\n",
      "False    716\n",
      "True      66\n",
      "Name: count, dtype: int64\n"
     ]
    }
   ],
   "source": [
    "print('Antes da remoção de missings:\\n', df_data['depression_diagnosis'].value_counts())"
   ]
  },
  {
   "cell_type": "code",
   "execution_count": 22,
   "id": "547818fd-7187-461c-ba7e-234f67342b8a",
   "metadata": {},
   "outputs": [],
   "source": [
    "df_data.dropna(inplace = True) #removendo valores missing, 18 observações foram removidos (783-165)"
   ]
  },
  {
   "cell_type": "code",
   "execution_count": 23,
   "id": "7f078c16-cc77-4a96-a149-c4f295751193",
   "metadata": {},
   "outputs": [
    {
     "name": "stdout",
     "output_type": "stream",
     "text": [
      "Depois da remoção de missings:\n",
      " depression_diagnosis\n",
      "False    699\n",
      "True      66\n",
      "Name: count, dtype: int64\n"
     ]
    }
   ],
   "source": [
    "print('Depois da remoção de missings:\\n', df_data['depression_diagnosis'].value_counts())"
   ]
  },
  {
   "cell_type": "code",
   "execution_count": 24,
   "id": "86849591-1337-4f6e-a4b4-3742cbe1f2b1",
   "metadata": {},
   "outputs": [],
   "source": [
    "df_data = df_data[df_data['who_bmi'] != 'Not Availble'] #a partir daqui, not availble não aparece mais, pega todos os elementos menos ele, isso significa que mais 8 observações foram removidas"
   ]
  },
  {
   "cell_type": "code",
   "execution_count": 25,
   "id": "58dce787-9e86-4d80-b894-c8c16b816688",
   "metadata": {},
   "outputs": [
    {
     "data": {
      "text/plain": [
       "(757, 18)"
      ]
     },
     "execution_count": 25,
     "metadata": {},
     "output_type": "execute_result"
    }
   ],
   "source": [
    "df_data.shape"
   ]
  },
  {
   "cell_type": "code",
   "execution_count": null,
   "id": "486b57bd-181b-4c98-9fac-821e00399be5",
   "metadata": {},
   "outputs": [],
   "source": [
    "#One-hot-encoding\n",
    "df = pd.get_dummies(data = df_data, columns = ['who_bmi' , 'gender','depression_severity', 'anxiety_severity'], dtype = int)\n",
    "\n",
    "#Mudança das características do tipo bool para int\n",
    "colunas = ['depressiveness','suicidal', 'depression_treatment', 'anxiousness', 'anxiety_diagnosis', 'anxiety_treatment', 'sleepiness', 'depression_diagnosis']\n",
    "\n",
    "for coluna in colunas:\n",
    "    df[coluna] = df[coluna].astype(int)"
   ]
  },
  {
   "cell_type": "code",
   "execution_count": 28,
   "id": "d5cea622-836a-42e3-975d-e7b526a69d65",
   "metadata": {},
   "outputs": [
    {
     "data": {
      "text/html": [
       "<div>\n",
       "<style scoped>\n",
       "    .dataframe tbody tr th:only-of-type {\n",
       "        vertical-align: middle;\n",
       "    }\n",
       "\n",
       "    .dataframe tbody tr th {\n",
       "        vertical-align: top;\n",
       "    }\n",
       "\n",
       "    .dataframe thead th {\n",
       "        text-align: right;\n",
       "    }\n",
       "</style>\n",
       "<table border=\"1\" class=\"dataframe\">\n",
       "  <thead>\n",
       "    <tr style=\"text-align: right;\">\n",
       "      <th></th>\n",
       "      <th>school_year</th>\n",
       "      <th>age</th>\n",
       "      <th>bmi</th>\n",
       "      <th>phq_score</th>\n",
       "      <th>depressiveness</th>\n",
       "      <th>suicidal</th>\n",
       "      <th>depression_diagnosis</th>\n",
       "      <th>depression_treatment</th>\n",
       "      <th>gad_score</th>\n",
       "      <th>anxiousness</th>\n",
       "      <th>...</th>\n",
       "      <th>depression_severity_Mild</th>\n",
       "      <th>depression_severity_Moderate</th>\n",
       "      <th>depression_severity_Moderately severe</th>\n",
       "      <th>depression_severity_None-minimal</th>\n",
       "      <th>depression_severity_Severe</th>\n",
       "      <th>depression_severity_none</th>\n",
       "      <th>anxiety_severity_Mild</th>\n",
       "      <th>anxiety_severity_Moderate</th>\n",
       "      <th>anxiety_severity_None-minimal</th>\n",
       "      <th>anxiety_severity_Severe</th>\n",
       "    </tr>\n",
       "  </thead>\n",
       "  <tbody>\n",
       "    <tr>\n",
       "      <th>0</th>\n",
       "      <td>1</td>\n",
       "      <td>19</td>\n",
       "      <td>33.333333</td>\n",
       "      <td>9</td>\n",
       "      <td>0</td>\n",
       "      <td>0</td>\n",
       "      <td>0</td>\n",
       "      <td>0</td>\n",
       "      <td>11</td>\n",
       "      <td>1</td>\n",
       "      <td>...</td>\n",
       "      <td>1</td>\n",
       "      <td>0</td>\n",
       "      <td>0</td>\n",
       "      <td>0</td>\n",
       "      <td>0</td>\n",
       "      <td>0</td>\n",
       "      <td>0</td>\n",
       "      <td>1</td>\n",
       "      <td>0</td>\n",
       "      <td>0</td>\n",
       "    </tr>\n",
       "    <tr>\n",
       "      <th>1</th>\n",
       "      <td>1</td>\n",
       "      <td>18</td>\n",
       "      <td>19.841270</td>\n",
       "      <td>8</td>\n",
       "      <td>0</td>\n",
       "      <td>0</td>\n",
       "      <td>0</td>\n",
       "      <td>0</td>\n",
       "      <td>5</td>\n",
       "      <td>0</td>\n",
       "      <td>...</td>\n",
       "      <td>1</td>\n",
       "      <td>0</td>\n",
       "      <td>0</td>\n",
       "      <td>0</td>\n",
       "      <td>0</td>\n",
       "      <td>0</td>\n",
       "      <td>1</td>\n",
       "      <td>0</td>\n",
       "      <td>0</td>\n",
       "      <td>0</td>\n",
       "    </tr>\n",
       "    <tr>\n",
       "      <th>2</th>\n",
       "      <td>1</td>\n",
       "      <td>19</td>\n",
       "      <td>25.102391</td>\n",
       "      <td>8</td>\n",
       "      <td>0</td>\n",
       "      <td>0</td>\n",
       "      <td>0</td>\n",
       "      <td>0</td>\n",
       "      <td>6</td>\n",
       "      <td>0</td>\n",
       "      <td>...</td>\n",
       "      <td>1</td>\n",
       "      <td>0</td>\n",
       "      <td>0</td>\n",
       "      <td>0</td>\n",
       "      <td>0</td>\n",
       "      <td>0</td>\n",
       "      <td>1</td>\n",
       "      <td>0</td>\n",
       "      <td>0</td>\n",
       "      <td>0</td>\n",
       "    </tr>\n",
       "    <tr>\n",
       "      <th>3</th>\n",
       "      <td>1</td>\n",
       "      <td>18</td>\n",
       "      <td>23.738662</td>\n",
       "      <td>19</td>\n",
       "      <td>1</td>\n",
       "      <td>1</td>\n",
       "      <td>0</td>\n",
       "      <td>0</td>\n",
       "      <td>15</td>\n",
       "      <td>1</td>\n",
       "      <td>...</td>\n",
       "      <td>0</td>\n",
       "      <td>0</td>\n",
       "      <td>1</td>\n",
       "      <td>0</td>\n",
       "      <td>0</td>\n",
       "      <td>0</td>\n",
       "      <td>0</td>\n",
       "      <td>0</td>\n",
       "      <td>0</td>\n",
       "      <td>1</td>\n",
       "    </tr>\n",
       "    <tr>\n",
       "      <th>4</th>\n",
       "      <td>1</td>\n",
       "      <td>18</td>\n",
       "      <td>25.617284</td>\n",
       "      <td>6</td>\n",
       "      <td>0</td>\n",
       "      <td>0</td>\n",
       "      <td>0</td>\n",
       "      <td>0</td>\n",
       "      <td>14</td>\n",
       "      <td>1</td>\n",
       "      <td>...</td>\n",
       "      <td>1</td>\n",
       "      <td>0</td>\n",
       "      <td>0</td>\n",
       "      <td>0</td>\n",
       "      <td>0</td>\n",
       "      <td>0</td>\n",
       "      <td>0</td>\n",
       "      <td>1</td>\n",
       "      <td>0</td>\n",
       "      <td>0</td>\n",
       "    </tr>\n",
       "    <tr>\n",
       "      <th>...</th>\n",
       "      <td>...</td>\n",
       "      <td>...</td>\n",
       "      <td>...</td>\n",
       "      <td>...</td>\n",
       "      <td>...</td>\n",
       "      <td>...</td>\n",
       "      <td>...</td>\n",
       "      <td>...</td>\n",
       "      <td>...</td>\n",
       "      <td>...</td>\n",
       "      <td>...</td>\n",
       "      <td>...</td>\n",
       "      <td>...</td>\n",
       "      <td>...</td>\n",
       "      <td>...</td>\n",
       "      <td>...</td>\n",
       "      <td>...</td>\n",
       "      <td>...</td>\n",
       "      <td>...</td>\n",
       "      <td>...</td>\n",
       "      <td>...</td>\n",
       "    </tr>\n",
       "    <tr>\n",
       "      <th>778</th>\n",
       "      <td>4</td>\n",
       "      <td>24</td>\n",
       "      <td>21.096191</td>\n",
       "      <td>6</td>\n",
       "      <td>0</td>\n",
       "      <td>0</td>\n",
       "      <td>0</td>\n",
       "      <td>0</td>\n",
       "      <td>1</td>\n",
       "      <td>0</td>\n",
       "      <td>...</td>\n",
       "      <td>1</td>\n",
       "      <td>0</td>\n",
       "      <td>0</td>\n",
       "      <td>0</td>\n",
       "      <td>0</td>\n",
       "      <td>0</td>\n",
       "      <td>0</td>\n",
       "      <td>0</td>\n",
       "      <td>1</td>\n",
       "      <td>0</td>\n",
       "    </tr>\n",
       "    <tr>\n",
       "      <th>779</th>\n",
       "      <td>4</td>\n",
       "      <td>22</td>\n",
       "      <td>25.308642</td>\n",
       "      <td>4</td>\n",
       "      <td>0</td>\n",
       "      <td>0</td>\n",
       "      <td>0</td>\n",
       "      <td>0</td>\n",
       "      <td>6</td>\n",
       "      <td>0</td>\n",
       "      <td>...</td>\n",
       "      <td>0</td>\n",
       "      <td>0</td>\n",
       "      <td>0</td>\n",
       "      <td>1</td>\n",
       "      <td>0</td>\n",
       "      <td>0</td>\n",
       "      <td>1</td>\n",
       "      <td>0</td>\n",
       "      <td>0</td>\n",
       "      <td>0</td>\n",
       "    </tr>\n",
       "    <tr>\n",
       "      <th>780</th>\n",
       "      <td>4</td>\n",
       "      <td>22</td>\n",
       "      <td>22.720438</td>\n",
       "      <td>2</td>\n",
       "      <td>0</td>\n",
       "      <td>0</td>\n",
       "      <td>0</td>\n",
       "      <td>0</td>\n",
       "      <td>5</td>\n",
       "      <td>0</td>\n",
       "      <td>...</td>\n",
       "      <td>0</td>\n",
       "      <td>0</td>\n",
       "      <td>0</td>\n",
       "      <td>1</td>\n",
       "      <td>0</td>\n",
       "      <td>0</td>\n",
       "      <td>1</td>\n",
       "      <td>0</td>\n",
       "      <td>0</td>\n",
       "      <td>0</td>\n",
       "    </tr>\n",
       "    <tr>\n",
       "      <th>781</th>\n",
       "      <td>4</td>\n",
       "      <td>22</td>\n",
       "      <td>23.033168</td>\n",
       "      <td>17</td>\n",
       "      <td>1</td>\n",
       "      <td>0</td>\n",
       "      <td>0</td>\n",
       "      <td>0</td>\n",
       "      <td>19</td>\n",
       "      <td>1</td>\n",
       "      <td>...</td>\n",
       "      <td>0</td>\n",
       "      <td>0</td>\n",
       "      <td>1</td>\n",
       "      <td>0</td>\n",
       "      <td>0</td>\n",
       "      <td>0</td>\n",
       "      <td>0</td>\n",
       "      <td>0</td>\n",
       "      <td>0</td>\n",
       "      <td>1</td>\n",
       "    </tr>\n",
       "    <tr>\n",
       "      <th>782</th>\n",
       "      <td>4</td>\n",
       "      <td>22</td>\n",
       "      <td>22.598140</td>\n",
       "      <td>6</td>\n",
       "      <td>0</td>\n",
       "      <td>0</td>\n",
       "      <td>0</td>\n",
       "      <td>0</td>\n",
       "      <td>6</td>\n",
       "      <td>0</td>\n",
       "      <td>...</td>\n",
       "      <td>1</td>\n",
       "      <td>0</td>\n",
       "      <td>0</td>\n",
       "      <td>0</td>\n",
       "      <td>0</td>\n",
       "      <td>0</td>\n",
       "      <td>1</td>\n",
       "      <td>0</td>\n",
       "      <td>0</td>\n",
       "      <td>0</td>\n",
       "    </tr>\n",
       "  </tbody>\n",
       "</table>\n",
       "<p>757 rows × 32 columns</p>\n",
       "</div>"
      ],
      "text/plain": [
       "     school_year  age        bmi  phq_score  depressiveness  suicidal  \\\n",
       "0              1   19  33.333333          9               0         0   \n",
       "1              1   18  19.841270          8               0         0   \n",
       "2              1   19  25.102391          8               0         0   \n",
       "3              1   18  23.738662         19               1         1   \n",
       "4              1   18  25.617284          6               0         0   \n",
       "..           ...  ...        ...        ...             ...       ...   \n",
       "778            4   24  21.096191          6               0         0   \n",
       "779            4   22  25.308642          4               0         0   \n",
       "780            4   22  22.720438          2               0         0   \n",
       "781            4   22  23.033168         17               1         0   \n",
       "782            4   22  22.598140          6               0         0   \n",
       "\n",
       "     depression_diagnosis  depression_treatment  gad_score  anxiousness  ...  \\\n",
       "0                       0                     0         11            1  ...   \n",
       "1                       0                     0          5            0  ...   \n",
       "2                       0                     0          6            0  ...   \n",
       "3                       0                     0         15            1  ...   \n",
       "4                       0                     0         14            1  ...   \n",
       "..                    ...                   ...        ...          ...  ...   \n",
       "778                     0                     0          1            0  ...   \n",
       "779                     0                     0          6            0  ...   \n",
       "780                     0                     0          5            0  ...   \n",
       "781                     0                     0         19            1  ...   \n",
       "782                     0                     0          6            0  ...   \n",
       "\n",
       "     depression_severity_Mild  depression_severity_Moderate  \\\n",
       "0                           1                             0   \n",
       "1                           1                             0   \n",
       "2                           1                             0   \n",
       "3                           0                             0   \n",
       "4                           1                             0   \n",
       "..                        ...                           ...   \n",
       "778                         1                             0   \n",
       "779                         0                             0   \n",
       "780                         0                             0   \n",
       "781                         0                             0   \n",
       "782                         1                             0   \n",
       "\n",
       "     depression_severity_Moderately severe  depression_severity_None-minimal  \\\n",
       "0                                        0                                 0   \n",
       "1                                        0                                 0   \n",
       "2                                        0                                 0   \n",
       "3                                        1                                 0   \n",
       "4                                        0                                 0   \n",
       "..                                     ...                               ...   \n",
       "778                                      0                                 0   \n",
       "779                                      0                                 1   \n",
       "780                                      0                                 1   \n",
       "781                                      1                                 0   \n",
       "782                                      0                                 0   \n",
       "\n",
       "     depression_severity_Severe  depression_severity_none  \\\n",
       "0                             0                         0   \n",
       "1                             0                         0   \n",
       "2                             0                         0   \n",
       "3                             0                         0   \n",
       "4                             0                         0   \n",
       "..                          ...                       ...   \n",
       "778                           0                         0   \n",
       "779                           0                         0   \n",
       "780                           0                         0   \n",
       "781                           0                         0   \n",
       "782                           0                         0   \n",
       "\n",
       "     anxiety_severity_Mild  anxiety_severity_Moderate  \\\n",
       "0                        0                          1   \n",
       "1                        1                          0   \n",
       "2                        1                          0   \n",
       "3                        0                          0   \n",
       "4                        0                          1   \n",
       "..                     ...                        ...   \n",
       "778                      0                          0   \n",
       "779                      1                          0   \n",
       "780                      1                          0   \n",
       "781                      0                          0   \n",
       "782                      1                          0   \n",
       "\n",
       "     anxiety_severity_None-minimal  anxiety_severity_Severe  \n",
       "0                                0                        0  \n",
       "1                                0                        0  \n",
       "2                                0                        0  \n",
       "3                                0                        1  \n",
       "4                                0                        0  \n",
       "..                             ...                      ...  \n",
       "778                              1                        0  \n",
       "779                              0                        0  \n",
       "780                              0                        0  \n",
       "781                              0                        1  \n",
       "782                              0                        0  \n",
       "\n",
       "[757 rows x 32 columns]"
      ]
     },
     "execution_count": 28,
     "metadata": {},
     "output_type": "execute_result"
    }
   ],
   "source": [
    "df"
   ]
  },
  {
   "cell_type": "code",
   "execution_count": 90,
   "id": "058b24f3-1641-4b41-9764-5c451db9088c",
   "metadata": {},
   "outputs": [
    {
     "data": {
      "text/plain": [
       "(757, 32)"
      ]
     },
     "execution_count": 90,
     "metadata": {},
     "output_type": "execute_result"
    }
   ],
   "source": [
    "df.shape"
   ]
  },
  {
   "cell_type": "markdown",
   "id": "a4a94492-d8fb-465b-ba8b-8cfad9d909ca",
   "metadata": {
    "jp-MarkdownHeadingCollapsed": true
   },
   "source": [
    "# Separando as características (X) e rótulos (y)"
   ]
  },
  {
   "cell_type": "code",
   "execution_count": 30,
   "id": "2a0d1d72-554d-4c48-adc5-6a5b7f329a71",
   "metadata": {},
   "outputs": [],
   "source": [
    "X = df.drop(columns=['depression_diagnosis'])\n",
    "y = df['depression_diagnosis']"
   ]
  },
  {
   "cell_type": "markdown",
   "id": "d16dae4e-973e-49b7-9e35-91abf4122929",
   "metadata": {},
   "source": [
    "# Divisão do dataset em treino e teste"
   ]
  },
  {
   "cell_type": "code",
   "execution_count": 32,
   "id": "07f74053-42e3-4bb4-88a0-4f6faf1cd509",
   "metadata": {},
   "outputs": [],
   "source": [
    "X_train, X_test, y_train, y_test = train_test_split(X, y, test_size=0.3, random_state=42, stratify=y)"
   ]
  },
  {
   "cell_type": "markdown",
   "id": "fa79f231-16ff-49a4-a29d-1fa0543d002e",
   "metadata": {},
   "source": [
    "# Padronização das características"
   ]
  },
  {
   "cell_type": "code",
   "execution_count": 34,
   "id": "6d212ed7-a6bb-428b-9119-7683b254e705",
   "metadata": {},
   "outputs": [],
   "source": [
    "scaler = StandardScaler()\n",
    "#Selecionando apenas as características com diferentes escalas\n",
    "cols_to_scale = ['age', 'bmi', 'phq_score', 'gad_score', 'epworth_score']\n",
    "\n",
    "X_train[cols_to_scale] = scaler.fit_transform(X_train[cols_to_scale])\n",
    "X_test[cols_to_scale] = scaler.transform(X_test[cols_to_scale])"
   ]
  },
  {
   "cell_type": "markdown",
   "id": "9e9caf86-0c6c-4eb3-ac3d-13d3d97cb756",
   "metadata": {},
   "source": [
    "# Cenário 1 - All features"
   ]
  },
  {
   "cell_type": "markdown",
   "id": "d16c7631-9f97-4bc6-bdf0-e622a4044ef6",
   "metadata": {},
   "source": [
    "## Balanceamento dos dados de treino"
   ]
  },
  {
   "cell_type": "code",
   "execution_count": 37,
   "id": "d7954fc7-3731-4aeb-b03a-9b9e05810294",
   "metadata": {},
   "outputs": [
    {
     "name": "stdout",
     "output_type": "stream",
     "text": [
      "Distribuição das classes após SMOTE: Counter({0: 484, 1: 484})\n"
     ]
    }
   ],
   "source": [
    "smote = SMOTE(random_state=42)\n",
    "X_train_balanced, y_train_balanced = smote.fit_resample(X_train, y_train)\n",
    "print(f\"Distribuição das classes após SMOTE: {Counter(y_train_balanced)}\")"
   ]
  },
  {
   "cell_type": "markdown",
   "id": "0b7b9dfd-a3ce-4d36-8bd7-7bfad80ddfdb",
   "metadata": {},
   "source": [
    "## Treinamento e avaliação do modelo com kernel 'rbf'"
   ]
  },
  {
   "cell_type": "code",
   "execution_count": 39,
   "id": "ace11e86-3b52-4e2b-b2bd-845615cc33f4",
   "metadata": {},
   "outputs": [
    {
     "name": "stdout",
     "output_type": "stream",
     "text": [
      "Acurácia média da validação cruzada: 94.01%\n",
      "Desvio padrão da acurácia: 4.61%\n",
      "Relatório do modelo\n",
      "\n",
      "               precision    recall  f1-score   support\n",
      "\n",
      "           0       0.96      0.97      0.96       209\n",
      "           1       0.61      0.58      0.59        19\n",
      "\n",
      "    accuracy                           0.93       228\n",
      "   macro avg       0.79      0.77      0.78       228\n",
      "weighted avg       0.93      0.93      0.93       228\n",
      "\n"
     ]
    },
    {
     "data": {
      "image/png": "[encoded data removed]",
      "text/plain": [
       "<Figure size 640x480 with 2 Axes>"
      ]
     },
     "metadata": {},
     "output_type": "display_data"
    }
   ],
   "source": [
    "#Instanciando o modelo com kernel 'rbf' (default)\n",
    "svm = SVC(kernel='rbf', random_state = 42)\n",
    "\n",
    "cv_scores = cross_val_score(svm, X_train_balanced, y_train_balanced, cv = 10, scoring='accuracy')\n",
    "print(f\"Acurácia média da validação cruzada: {cv_scores.mean() * 100:.2f}%\")\n",
    "print(f\"Desvio padrão da acurácia: {cv_scores.std() * 100:.2f}%\")\n",
    "\n",
    "svm.fit(X_train_balanced, y_train_balanced)\n",
    "\n",
    "y_pred = svm.predict(X_test)\n",
    "\n",
    "matriz_conf = confusion_matrix(y_test, y_pred)\n",
    "\n",
    "sns.heatmap(matriz_conf, annot=True, fmt='d', cmap='Blues', \n",
    "            xticklabels=['0', '1'], \n",
    "            yticklabels=['0', '1'])\n",
    "\n",
    "plt.title('Matriz de Confusão')\n",
    "plt.xlabel('Valor Predito')\n",
    "plt.ylabel('Valor Real');\n",
    "\n",
    "print('Relatório do modelo\\n\\n', classification_report(y_test, y_pred))"
   ]
  },
  {
   "cell_type": "markdown",
   "id": "47e5c09d-82b4-46f8-b569-ea9c2b51b259",
   "metadata": {},
   "source": [
    "## Treinamento e avaliação do modelo com kernel 'linear'"
   ]
  },
  {
   "cell_type": "code",
   "execution_count": 41,
   "id": "de47e74c-af0a-4bed-adbd-f8eccc4c04aa",
   "metadata": {},
   "outputs": [
    {
     "name": "stdout",
     "output_type": "stream",
     "text": [
      "Acurácia média da validação cruzada: 92.77%\n",
      "Desvio padrão da acurácia: 4.71%\n",
      "Relatório do modelo\n",
      "\n",
      "               precision    recall  f1-score   support\n",
      "\n",
      "           0       0.96      0.98      0.97       209\n",
      "           1       0.73      0.58      0.65        19\n",
      "\n",
      "    accuracy                           0.95       228\n",
      "   macro avg       0.85      0.78      0.81       228\n",
      "weighted avg       0.94      0.95      0.94       228\n",
      "\n"
     ]
    },
    {
     "data": {
      "image/png": "[encoded data removed]",
      "text/plain": [
       "<Figure size 640x480 with 2 Axes>"
      ]
     },
     "metadata": {},
     "output_type": "display_data"
    }
   ],
   "source": [
    "#Instanciando o modelo com kernel 'linear'\n",
    "svm = SVC(kernel='linear', random_state = 42)\n",
    "\n",
    "#avaliando o modelo com o cross-validation\n",
    "cv_scores = cross_val_score(svm,X_train_balanced, y_train_balanced, cv = 10, scoring='accuracy')\n",
    "print(f\"Acurácia média da validação cruzada: {cv_scores.mean() * 100:.2f}%\")\n",
    "print(f\"Desvio padrão da acurácia: {cv_scores.std() * 100:.2f}%\")\n",
    "\n",
    "svm.fit(X_train_balanced, y_train_balanced)\n",
    "\n",
    "y_pred = svm.predict(X_test)\n",
    "\n",
    "matriz_conf = confusion_matrix(y_test, y_pred)\n",
    "\n",
    "sns.heatmap(matriz_conf, annot=True, fmt='d', cmap='Blues', \n",
    "            xticklabels=['0', '1'], \n",
    "            yticklabels=['0', '1'])\n",
    "\n",
    "plt.title('Matriz de Confusão')\n",
    "plt.xlabel('Valor Predito')\n",
    "plt.ylabel('Valor Real');\n",
    "\n",
    "print('Relatório do modelo\\n\\n', classification_report(y_test, y_pred))"
   ]
  },
  {
   "cell_type": "markdown",
   "id": "393e2ae7-7aad-494e-aa59-5fb2042a41af",
   "metadata": {},
   "source": [
    "## Treinamento e avaliação do modelo com kernel 'poly'"
   ]
  },
  {
   "cell_type": "code",
   "execution_count": 43,
   "id": "9cb5eb6e-daa1-4e84-bee0-09bb96feb45b",
   "metadata": {},
   "outputs": [
    {
     "name": "stdout",
     "output_type": "stream",
     "text": [
      "Acurácia média da validação cruzada: 92.46%\n",
      "Desvio padrão da acurácia: 3.86%\n",
      "Relatório do modelo\n",
      "\n",
      "               precision    recall  f1-score   support\n",
      "\n",
      "           0       0.97      0.93      0.95       209\n",
      "           1       0.46      0.63      0.53        19\n",
      "\n",
      "    accuracy                           0.91       228\n",
      "   macro avg       0.71      0.78      0.74       228\n",
      "weighted avg       0.92      0.91      0.91       228\n",
      "\n"
     ]
    },
    {
     "data": {
      "image/png": "[encoded data removed]",
      "text/plain": [
       "<Figure size 640x480 with 2 Axes>"
      ]
     },
     "metadata": {},
     "output_type": "display_data"
    }
   ],
   "source": [
    "#Instanciando o modelo com kernel 'poly'\n",
    "svm = SVC(kernel='poly', random_state = 42)\n",
    "\n",
    "cv_scores = cross_val_score(svm, X_train_balanced, y_train_balanced, cv = 10, scoring='accuracy')\n",
    "print(f\"Acurácia média da validação cruzada: {cv_scores.mean() * 100:.2f}%\")\n",
    "print(f\"Desvio padrão da acurácia: {cv_scores.std() * 100:.2f}%\")\n",
    "\n",
    "svm.fit(X_train_balanced, y_train_balanced)\n",
    "\n",
    "y_pred = svm.predict(X_test)\n",
    "\n",
    "matriz_conf = confusion_matrix(y_test, y_pred)\n",
    "\n",
    "sns.heatmap(matriz_conf, annot=True, fmt='d', cmap='Blues', \n",
    "            xticklabels=['0', '1'], \n",
    "            yticklabels=['0', '1'])\n",
    "\n",
    "plt.title('Matriz de Confusão')\n",
    "plt.xlabel('Valor Predito')\n",
    "plt.ylabel('Valor Real');\n",
    "\n",
    "print('Relatório do modelo\\n\\n', classification_report(y_test, y_pred))"
   ]
  },
  {
   "cell_type": "markdown",
   "id": "9df739b8-718d-4685-bd27-a761db913278",
   "metadata": {},
   "source": [
    "# Cenário 2: Selected features"
   ]
  },
  {
   "cell_type": "markdown",
   "id": "975ec1b5-80d4-4e99-aa8b-de2855b780f1",
   "metadata": {},
   "source": [
    "## Seleção de Características"
   ]
  },
  {
   "cell_type": "code",
   "execution_count": 46,
   "id": "9662706f-b8f7-427b-aadd-1fac0451d202",
   "metadata": {},
   "outputs": [
    {
     "name": "stdout",
     "output_type": "stream",
     "text": [
      "Características selecionadas:\n",
      " Index(['phq_score', 'depressiveness', 'depression_treatment',\n",
      "       'anxiety_diagnosis', 'anxiety_treatment'],\n",
      "      dtype='object')\n"
     ]
    }
   ],
   "source": [
    "selector = SelectKBest(score_func = f_classif, k=5)\n",
    "X_train_selected = selector.fit_transform(X_train, y_train)\n",
    "X_test_selected = selector.transform(X_test)\n",
    "\n",
    "view_features = X.columns[selector.get_support()]\n",
    "\n",
    "print(\"Características selecionadas:\\n\", view_features)"
   ]
  },
  {
   "cell_type": "markdown",
   "id": "d6dd47ab-71d5-468a-84be-2a6645a34a51",
   "metadata": {},
   "source": [
    "## Balanceamento dos dados de treino selecionados"
   ]
  },
  {
   "cell_type": "code",
   "execution_count": 48,
   "id": "aa0f1b30-5214-4f6e-bd3d-735a0125211d",
   "metadata": {},
   "outputs": [
    {
     "name": "stdout",
     "output_type": "stream",
     "text": [
      "Distribuição das classes após SMOTE: Counter({0: 484, 1: 484})\n"
     ]
    }
   ],
   "source": [
    "X_train_balanced_selected, y_train_balanced_selected = smote.fit_resample(X_train_selected, y_train)\n",
    "\n",
    "print(f\"Distribuição das classes após SMOTE: {Counter(y_train_balanced_selected)}\")"
   ]
  },
  {
   "cell_type": "markdown",
   "id": "522657d8-d1f6-4ee2-8e09-b5a068aff895",
   "metadata": {},
   "source": [
    "## Treinamento e avaliação do modelo com kernel 'rbf'"
   ]
  },
  {
   "cell_type": "code",
   "execution_count": 50,
   "id": "0709333c-7d8a-4557-a6e8-8b837f15a249",
   "metadata": {},
   "outputs": [
    {
     "name": "stdout",
     "output_type": "stream",
     "text": [
      "Acurácia média da validação cruzada: 90.39%\n",
      "Desvio padrão da acurácia: 3.80%\n",
      "Relatório do modelo\n",
      "\n",
      "               precision    recall  f1-score   support\n",
      "\n",
      "           0       0.98      0.97      0.97       209\n",
      "           1       0.68      0.79      0.73        19\n",
      "\n",
      "    accuracy                           0.95       228\n",
      "   macro avg       0.83      0.88      0.85       228\n",
      "weighted avg       0.96      0.95      0.95       228\n",
      "\n"
     ]
    },
    {
     "data": {
      "image/png": "[encoded data removed]",
      "text/plain": [
       "<Figure size 640x480 with 2 Axes>"
      ]
     },
     "metadata": {},
     "output_type": "display_data"
    }
   ],
   "source": [
    "#Instanciando o modelo com kernel 'rbf' (default)\n",
    "svm = SVC(kernel='rbf', random_state = 42)\n",
    "\n",
    "cv_scores = cross_val_score(svm, X_train_balanced_selected, y_train_balanced_selected, cv = 10, scoring='accuracy')\n",
    "print(f\"Acurácia média da validação cruzada: {cv_scores.mean() * 100:.2f}%\")\n",
    "print(f\"Desvio padrão da acurácia: {cv_scores.std() * 100:.2f}%\")\n",
    "\n",
    "svm.fit(X_train_balanced_selected, y_train_balanced_selected)\n",
    "\n",
    "y_pred = svm.predict(X_test_selected)\n",
    "\n",
    "matriz_conf = confusion_matrix(y_test, y_pred)\n",
    "\n",
    "sns.heatmap(matriz_conf, annot=True, fmt='d', cmap='Blues', \n",
    "            xticklabels=['0', '1'], \n",
    "            yticklabels=['0', '1'])\n",
    "\n",
    "plt.title('Matriz de Confusão')\n",
    "plt.xlabel('Valor Predito')\n",
    "plt.ylabel('Valor Real');\n",
    "\n",
    "print('Relatório do modelo\\n\\n', classification_report(y_test, y_pred))"
   ]
  },
  {
   "cell_type": "markdown",
   "id": "1160c4cc-629f-4768-a8f9-7bd8f823a536",
   "metadata": {},
   "source": [
    "## Treinamento e avaliação do modelo com kernel 'linear'"
   ]
  },
  {
   "cell_type": "code",
   "execution_count": 52,
   "id": "482faf17-08f4-4611-b054-7a70349e6439",
   "metadata": {},
   "outputs": [
    {
     "name": "stdout",
     "output_type": "stream",
     "text": [
      "Acurácia média da validação cruzada: 88.94%\n",
      "Desvio padrão da acurácia: 3.00%\n",
      "Relatório do modelo\n",
      "\n",
      "               precision    recall  f1-score   support\n",
      "\n",
      "           0       0.98      0.96      0.97       209\n",
      "           1       0.62      0.79      0.70        19\n",
      "\n",
      "    accuracy                           0.94       228\n",
      "   macro avg       0.80      0.87      0.83       228\n",
      "weighted avg       0.95      0.94      0.95       228\n",
      "\n"
     ]
    },
    {
     "data": {
      "image/png": "[encoded data removed]",
      "text/plain": [
       "<Figure size 640x480 with 2 Axes>"
      ]
     },
     "metadata": {},
     "output_type": "display_data"
    }
   ],
   "source": [
    "#Instanciando o modelo com kernel 'linear'\n",
    "svm = SVC(kernel='linear', random_state = 42)\n",
    "\n",
    "cv_scores = cross_val_score(svm,X_train_balanced_selected, y_train_balanced_selected, cv = 10, scoring='accuracy')\n",
    "print(f\"Acurácia média da validação cruzada: {cv_scores.mean() * 100:.2f}%\")\n",
    "print(f\"Desvio padrão da acurácia: {cv_scores.std() * 100:.2f}%\")\n",
    "\n",
    "svm.fit(X_train_balanced_selected, y_train_balanced_selected)\n",
    "\n",
    "y_pred = svm.predict(X_test_selected)\n",
    "\n",
    "matriz_conf = confusion_matrix(y_test, y_pred)\n",
    "\n",
    "sns.heatmap(matriz_conf, annot=True, fmt='d', cmap='Blues', \n",
    "            xticklabels=['0', '1'], \n",
    "            yticklabels=['0', '1'])\n",
    "\n",
    "plt.title('Matriz de Confusão')\n",
    "plt.xlabel('Valor Predito')\n",
    "plt.ylabel('Valor Real');\n",
    "\n",
    "print('Relatório do modelo\\n\\n', classification_report(y_test, y_pred))"
   ]
  },
  {
   "cell_type": "markdown",
   "id": "919bb3fd-7319-429c-ba4c-01e0318d43f1",
   "metadata": {},
   "source": [
    "## Treinamento e avaliação do modelo com kernel 'poly'"
   ]
  },
  {
   "cell_type": "code",
   "execution_count": 54,
   "id": "9b450938-5a75-4096-83ef-13629deb7963",
   "metadata": {},
   "outputs": [
    {
     "name": "stdout",
     "output_type": "stream",
     "text": [
      "Acurácia média da validação cruzada: 89.97%\n",
      "Desvio padrão da acurácia: 3.55%\n",
      "Relatório do modelo\n",
      "\n",
      "               precision    recall  f1-score   support\n",
      "\n",
      "           0       0.98      0.97      0.98       209\n",
      "           1       0.71      0.79      0.75        19\n",
      "\n",
      "    accuracy                           0.96       228\n",
      "   macro avg       0.85      0.88      0.86       228\n",
      "weighted avg       0.96      0.96      0.96       228\n",
      "\n"
     ]
    },
    {
     "data": {
      "image/png": "[encoded data removed]",
      "text/plain": [
       "<Figure size 640x480 with 2 Axes>"
      ]
     },
     "metadata": {},
     "output_type": "display_data"
    }
   ],
   "source": [
    "#Instanciando o modelo com kernel 'poly'\n",
    "svm = SVC(kernel='poly', random_state = 42)\n",
    "\n",
    "cv_scores = cross_val_score(svm, X_train_balanced_selected, y_train_balanced_selected, cv = 10, scoring='accuracy')\n",
    "print(f\"Acurácia média da validação cruzada: {cv_scores.mean() * 100:.2f}%\")\n",
    "print(f\"Desvio padrão da acurácia: {cv_scores.std() * 100:.2f}%\")\n",
    "\n",
    "svm.fit(X_train_balanced_selected, y_train_balanced_selected)\n",
    "\n",
    "y_pred = svm.predict(X_test_selected)\n",
    "\n",
    "matriz_conf = confusion_matrix(y_test, y_pred)\n",
    "\n",
    "sns.heatmap(matriz_conf, annot=True, fmt='d', cmap='Blues', \n",
    "            xticklabels=['0', '1'], \n",
    "            yticklabels=['0', '1'])\n",
    "\n",
    "plt.title('Matriz de Confusão')\n",
    "plt.xlabel('Valor Predito')\n",
    "plt.ylabel('Valor Real');\n",
    "\n",
    "print('Relatório do modelo\\n\\n', classification_report(y_test, y_pred))"
   ]
  }
 ],
 "metadata": {
  "kernelspec": {
   "display_name": "Python 3 (ipykernel)",
   "language": "python",
   "name": "python3"
  },
  "language_info": {
   "codemirror_mode": {
    "name": "ipython",
    "version": 3
   },
   "file_extension": ".py",
   "mimetype": "text/x-python",
   "name": "python",
   "nbconvert_exporter": "python",
   "pygments_lexer": "ipython3",
   "version": "3.12.7"
  }
 },
 "nbformat": 4,
 "nbformat_minor": 5
}
